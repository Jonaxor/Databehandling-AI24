{
 "cells": [
  {
   "cell_type": "markdown",
   "metadata": {},
   "source": [
    "# Introduction to Plotly Express\n",
    "\n",
    "\n",
    "**Plotly Express** is the high-level interface to Plotly, designed for quick and easy data visualization. It allows you to create interactive, customizable plots with minimal code.\n",
    "\n",
    "**Key topics**\n",
    "\n",
    "1. What is Plotly Express?\n",
    "2. Working with the Gapminder Dataset\n",
    "3. Core Plotly Express Plot Types\n",
    "   - Scatter Plots\n",
    "   - Line Plots\n",
    "   - Bar Charts\n",
    "   - Bubble Charts\n",
    "   - Faceted Plots\n",
    "4. Customizing Plots\n",
    "5. Interactivity in Plotly Express\n"
   ]
  },
  {
   "cell_type": "markdown",
   "metadata": {},
   "source": [
    "____"
   ]
  },
  {
   "cell_type": "markdown",
   "metadata": {},
   "source": [
    "# 1. What is Plotly Express?\n",
    "\n",
    "**Plotly Express** simplifies the creation of interactive visualizations. It’s:\n",
    "- **Easy to use**: Generate complex plots with a few lines of code.\n",
    "- **Interactive by default**: Zoom, pan, and hover without extra effort.\n",
    "- **Pandas-integrated**: It works directly with Pandas DataFrames, making it great for handling tabular data.\n"
   ]
  },
  {
   "cell_type": "markdown",
   "metadata": {},
   "source": [
    "___"
   ]
  },
  {
   "cell_type": "markdown",
   "metadata": {},
   "source": [
    "# 2. Working with the Gapminder Dataset\n",
    "\n",
    "The Gapminder dataset contains country-level data on life expectancy, population, and GDP per capita over time. This dataset is a great example to explore various types of plots.\n"
   ]
  },
  {
   "cell_type": "code",
   "execution_count": null,
   "metadata": {},
   "outputs": [],
   "source": [
    "import pandas as pd\n",
    "import plotly.express as px\n",
    "\n",
    "# load the built-in Gapminder dataset\n",
    "\n",
    "gapminder_df = px.data.gapminder()"
   ]
  },
  {
   "cell_type": "code",
   "execution_count": null,
   "metadata": {},
   "outputs": [],
   "source": [
    "gapminder_df.head()"
   ]
  },
  {
   "cell_type": "code",
   "execution_count": null,
   "metadata": {},
   "outputs": [],
   "source": [
    "gapminder_df.info()"
   ]
  },
  {
   "cell_type": "code",
   "execution_count": null,
   "metadata": {},
   "outputs": [],
   "source": [
    "gapminder_df['country'].nunique()"
   ]
  },
  {
   "cell_type": "code",
   "execution_count": null,
   "metadata": {},
   "outputs": [],
   "source": [
    "gapminder_df['country'].unique()"
   ]
  },
  {
   "cell_type": "code",
   "execution_count": null,
   "metadata": {},
   "outputs": [],
   "source": [
    "gapminder_df['country'].value_counts().unique()"
   ]
  },
  {
   "cell_type": "code",
   "execution_count": null,
   "metadata": {},
   "outputs": [],
   "source": [
    "sweden_filter = gapminder_df['country'] == 'Sweden'\n",
    "\n",
    "sweden_df = gapminder_df[sweden_filter].reset_index(drop=True)\n",
    "\n",
    "sweden_df"
   ]
  },
  {
   "cell_type": "code",
   "execution_count": null,
   "metadata": {},
   "outputs": [],
   "source": [
    "nordic_countries = ['Sweden', 'Norway', 'Denmark', 'Finland', 'Iceland']\n",
    "\n",
    "nordic_filter = gapminder_df['country'].isin(nordic_countries)\n",
    "\n",
    "nordic_df = gapminder_df[nordic_filter].reset_index(drop=True)\n",
    "\n",
    "nordic_df.head()"
   ]
  },
  {
   "cell_type": "markdown",
   "metadata": {},
   "source": [
    "____"
   ]
  },
  {
   "cell_type": "markdown",
   "metadata": {},
   "source": [
    "# 3. Core Plotly Express Plot Types\n",
    "\n",
    "**Scatter Plots**\n",
    "\n",
    "Scatter plots are used to visualize the relationship between two continuous variables.\n"
   ]
  },
  {
   "cell_type": "code",
   "execution_count": null,
   "metadata": {},
   "outputs": [],
   "source": [
    "fig = px.scatter(gapminder_df, x='gdpPercap', y='lifeExp', title= 'Life Expectancy vs GDP per Capita')\n",
    "fig.show()"
   ]
  },
  {
   "cell_type": "code",
   "execution_count": null,
   "metadata": {},
   "outputs": [],
   "source": [
    "fig = px.scatter(sweden_df, x='gdpPercap', y='lifeExp', title= 'Life Expectancy vs GDP per Capita')\n",
    "fig.show()"
   ]
  },
  {
   "cell_type": "markdown",
   "metadata": {},
   "source": [
    "### Adding color and size for categorical and continuous variables\n",
    "\n",
    "We can enhance the scatter plot by adding color to differentiate continents and adjust marker size based on population.\n",
    "\n",
    "**Note** that this adds several new dimensions to our visualisations!\n"
   ]
  },
  {
   "cell_type": "code",
   "execution_count": null,
   "metadata": {},
   "outputs": [],
   "source": [
    "gapminder_df.head()"
   ]
  },
  {
   "cell_type": "code",
   "execution_count": null,
   "metadata": {},
   "outputs": [],
   "source": [
    "fig = px.scatter(gapminder_df, x='gdpPercap', y='lifeExp', title= 'Life Expectancy vs GDP per Capita as a bubble chart', \n",
    "                 log_x=True, hover_name='country', color='continent', size='pop')\n",
    "fig.show()"
   ]
  },
  {
   "cell_type": "markdown",
   "metadata": {},
   "source": [
    "**Line Plots**\n",
    "\n",
    "Line plots are ideal for visualizing trends over time. Let's visualize life expectancy over the years for a single country.\n"
   ]
  },
  {
   "cell_type": "code",
   "execution_count": null,
   "metadata": {},
   "outputs": [],
   "source": [
    "fig = px.line(sweden_df, x='year', y='lifeExp', title='Life Expectancy in Sweden Over Time')\n",
    "fig.show()"
   ]
  },
  {
   "cell_type": "code",
   "execution_count": null,
   "metadata": {},
   "outputs": [],
   "source": [
    "fig = px.line(nordic_df, x='year', y='lifeExp', color='country', \n",
    "              hover_name='pop', title='Life Expectancy in Sweden Over Time')\n",
    "fig.show()"
   ]
  },
  {
   "cell_type": "markdown",
   "metadata": {},
   "source": [
    "**Bar Charts**\n",
    "\n",
    "Bar charts help compare data across categories. Here, we'll look at the average life expectancy by continent.\n"
   ]
  },
  {
   "cell_type": "code",
   "execution_count": null,
   "metadata": {},
   "outputs": [],
   "source": [
    "nordic_year_1952_filter = nordic_df['year'] == 1952\n",
    "\n",
    "fig = px.bar(nordic_df[nordic_year_1952_filter], x='country', y='lifeExp', color='country', \n",
    "             title='LifeExp in Nordic Countries 1952', labels={'lifeExp': 'Life Expectancy'})\n",
    "fig.show()"
   ]
  },
  {
   "cell_type": "markdown",
   "metadata": {},
   "source": [
    "**Stacked Bar Chart**\n",
    "\n",
    "You can also create a grouped or stacked bar chart to see the trend of life expectancy by continent over time.\n"
   ]
  },
  {
   "cell_type": "code",
   "execution_count": null,
   "metadata": {},
   "outputs": [],
   "source": [
    "fig = px.bar(nordic_df, x='year', y='lifeExp', color='country', barmode='group', title='LifeExp over time for Nordics')\n",
    "fig.show()"
   ]
  },
  {
   "cell_type": "markdown",
   "metadata": {},
   "source": [
    "**Bubble Charts**\n",
    "\n",
    "Bubble charts are an extension of scatter plots where the size of the marker represents a third variable, such as population.\n"
   ]
  },
  {
   "cell_type": "code",
   "execution_count": null,
   "metadata": {},
   "outputs": [],
   "source": [
    "fig = px.scatter(gapminder_df, x='gdpPercap', y='lifeExp', title= 'Life Expectancy vs GDP per Capita as a bubble chart', \n",
    "                 log_x=True, hover_name='country', color='continent', size='pop', size_max=60)\n",
    "fig.show()"
   ]
  },
  {
   "cell_type": "markdown",
   "metadata": {},
   "source": [
    "**Faceted Plots**\n",
    "\n",
    "Faceted plots allow you to break down the data into smaller plots based on categories like continent. This helps in comparing trends across subgroups.\n"
   ]
  },
  {
   "cell_type": "code",
   "execution_count": null,
   "metadata": {},
   "outputs": [],
   "source": [
    "fig = px.scatter(gapminder_df, x='gdpPercap', y='lifeExp', color='continent', size='pop', \n",
    "                 size_max=50, log_x=True, facet_col = 'continent')\n",
    "fig.show()"
   ]
  },
  {
   "cell_type": "code",
   "execution_count": null,
   "metadata": {},
   "outputs": [],
   "source": [
    "fig = px.scatter(nordic_df, x='gdpPercap', y='lifeExp', color='year', size='pop', \n",
    "                 size_max=50, log_x=True, facet_col = 'country')\n",
    "fig.show()"
   ]
  },
  {
   "cell_type": "markdown",
   "metadata": {},
   "source": [
    "___\n",
    "\n",
    "## 4. Customizing Plotly Express Plots\n",
    "\n",
    "Plotly Express allows for easy customization of titles, axis labels, colors, and more. Let’s look at some customization options.\n"
   ]
  },
  {
   "cell_type": "code",
   "execution_count": null,
   "metadata": {},
   "outputs": [],
   "source": [
    "fig = px.scatter(gapminder_df, x='gdpPercap', y='lifeExp', color='country', \n",
    "                 title='GDP per Capita vs Life Expectancy', log_x=True, \n",
    "                 labels={'gdpPercap': 'GDP per Capita', 'lifeExp': 'Life Expectancy'})\n",
    "fig.show()"
   ]
  },
  {
   "cell_type": "markdown",
   "metadata": {},
   "source": [
    "**Changing Color Scales**\n",
    "\n",
    "You can modify the color scale to enhance visual representation.\n"
   ]
  },
  {
   "cell_type": "code",
   "execution_count": null,
   "metadata": {},
   "outputs": [],
   "source": [
    "fig = px.scatter(nordic_df, x='year', y='pop', color='gdpPercap', \n",
    "                 log_x=True, color_continuous_scale='Viridis')\n",
    "fig.show()"
   ]
  },
  {
   "cell_type": "markdown",
   "metadata": {},
   "source": [
    "**Adjusting marker size and opacity**\n",
    "\n",
    "You can control marker size and transparency to make dense plots easier to read.\n"
   ]
  },
  {
   "cell_type": "code",
   "execution_count": null,
   "metadata": {},
   "outputs": [],
   "source": [
    "fig = px.scatter(gapminder_df, x='gdpPercap', y='lifeExp', color='continent', size='pop', \n",
    "                 size_max=50, log_x=True, opacity=0.4)\n",
    "fig.show()"
   ]
  },
  {
   "cell_type": "markdown",
   "metadata": {},
   "source": [
    "____"
   ]
  },
  {
   "cell_type": "markdown",
   "metadata": {},
   "source": [
    "## 5. Interactivity in Plotly Express\n",
    "\n",
    "One of the major advantages of Plotly Express is the built-in interactivity.\n"
   ]
  },
  {
   "cell_type": "markdown",
   "metadata": {},
   "source": [
    "**Combining Facets and Animations**\n",
    "\n",
    "You can combine faceting with animations to create multi-dimensional visualizations.\n"
   ]
  },
  {
   "cell_type": "code",
   "execution_count": null,
   "metadata": {},
   "outputs": [],
   "source": [
    "nordic_gdp_per_cap_max = nordic_df['gdpPercap'].max()\n",
    "nordic_life_exp_max = nordic_df['lifeExp'].max()\n",
    "\n",
    "fig = px.scatter(nordic_df, x='gdpPercap', y='lifeExp', size='pop', color='country', \n",
    "                 animation_frame='year', range_x=[0, nordic_gdp_per_cap_max+5000], range_y=[60, nordic_life_exp_max+5])\n",
    "fig.show()"
   ]
  },
  {
   "cell_type": "code",
   "execution_count": null,
   "metadata": {},
   "outputs": [],
   "source": [
    "nordic_max_lifeExp = nordic_df['lifeExp'].max()+10\n",
    "nordic_max_gdpPercap = nordic_df['gdpPercap'].max()+1000\n",
    "\n",
    "\n",
    "fig = px.scatter(nordic_df, x='gdpPercap', y='lifeExp', size='pop', color='country', animation_frame='year',\n",
    "                range_x=[0, nordic_max_gdpPercap], range_y=[40, nordic_max_lifeExp])\n",
    "\n",
    "fig.show()"
   ]
  },
  {
   "cell_type": "markdown",
   "metadata": {},
   "source": [
    "# Hover settings"
   ]
  },
  {
   "cell_type": "code",
   "execution_count": null,
   "metadata": {},
   "outputs": [],
   "source": [
    "fig = px.line(nordic_df, x='year', y='gdpPercap', color='country')\n",
    "\n",
    "fig.update_layout(hovermode='x')\n",
    "fig.update_xaxes(showspikes=True,\n",
    "                 spikedash='solid', spikecolor='green', spikemode='across', spikesnap='cursor')\n",
    "\n",
    "fig.show()"
   ]
  },
  {
   "cell_type": "markdown",
   "metadata": {},
   "source": []
  },
  {
   "cell_type": "markdown",
   "metadata": {},
   "source": [
    "# Pie chart"
   ]
  },
  {
   "cell_type": "code",
   "execution_count": null,
   "metadata": {},
   "outputs": [],
   "source": [
    "year_2007_filter = gapminder_df['year'] == 2007\n",
    "\n",
    "nordic_2007_df = gapminder_df[year_2007_filter & nordic_filter].reset_index(drop=True)\n",
    "\n",
    "nordic_2007_df"
   ]
  },
  {
   "cell_type": "code",
   "execution_count": null,
   "metadata": {},
   "outputs": [],
   "source": [
    "px.pie(nordic_2007_df, values='pop', names='country', hover_data='gdpPercap')"
   ]
  }
 ],
 "metadata": {
  "kernelspec": {
   "display_name": "databehandling",
   "language": "python",
   "name": "python3"
  },
  "language_info": {
   "codemirror_mode": {
    "name": "ipython",
    "version": 3
   },
   "file_extension": ".py",
   "mimetype": "text/x-python",
   "name": "python",
   "nbconvert_exporter": "python",
   "pygments_lexer": "ipython3",
   "version": "3.12.7"
  }
 },
 "nbformat": 4,
 "nbformat_minor": 2
}
