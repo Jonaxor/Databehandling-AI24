{
 "cells": [
  {
   "cell_type": "markdown",
   "metadata": {},
   "source": [
    "# Pandas: Merge, Join, and Concatenate\n",
    "\n",
    "Pandas provides powerful ways to combine datasets. In this lesson, we will explore the three main functions used for this purpose:\n",
    "\n",
    "- **`merge()`**: Combines datasets based on common columns or indices.\n",
    "- **`join()`**: Joins two DataFrames based on their indices.\n",
    "- **`concat()`**: Concatenates multiple DataFrames along rows or columns.\n",
    "\n",
    "## Table of Contents:\n",
    "1. **The Three Main Functions**\n",
    "2. **Understanding Different Types of Joins**\n",
    "3. **Detailed Explanation of `merge()`**\n",
    "4. **Detailed Explanation of `join()`**\n",
    "5. **Detailed Explanation of `concat()`**\n",
    "6. **Duplicated Keys**\n",
    "\n",
    "---\n",
    "\n",
    "## 1. The Three Main Functions\n",
    "\n",
    "Pandas has three main functions for combining datasets:\n",
    "\n",
    "1. **`merge()`**: Works similar to SQL joins. It combines DataFrames based on common columns or indices.\n",
    "2. **`join()`**: A convenient method for joining DataFrames on their index.\n",
    "3. **`concat()`**: Concatenates DataFrames along a particular axis (either rows or columns).\n",
    "\n",
    "---\n",
    "\n",
    "## 2. Understanding Different Types of Joins\n",
    "\n",
    "When combining datasets, there are various ways to handle matching and non-matching data. These are called join types:\n",
    "\n",
    "- **`left` join**: Includes all keys from the left DataFrame and corresponding matches from the right DataFrame.\n",
    "- **`right` join**: Includes all keys from the right DataFrame and corresponding matches from the left DataFrame.\n",
    "- **`inner` join**: Includes only the keys that are common in both DataFrames (intersection).\n",
    "- **`outer` join**: Includes all keys from both DataFrames (union).\n",
    "- **`cross` join**: Produces the Cartesian product of rows, matching every row from the first DataFrame with every row from the second.\n",
    "\n",
    "Let’s start with examples!\n",
    "\n",
    "---\n",
    "\n",
    "## 3. Detailed Explanation of `merge()`\n",
    "\n",
    "The `merge()` function is often used when you want to combine DataFrames based on common columns or indices, much like SQL joins."
   ]
  },
  {
   "cell_type": "markdown",
   "metadata": {},
   "source": [
    "*Example*\n",
    "\n",
    "We will work with the following two DataFrames, `left_df` and `right_df`, based on a shared `key` column."
   ]
  },
  {
   "cell_type": "code",
   "execution_count": null,
   "metadata": {},
   "outputs": [],
   "source": [
    "import pandas as pd\n",
    "\n",
    "# left dataframe\n",
    "left_df = pd.DataFrame({\n",
    "                        'key': ['K0', 'K1', 'K2', 'K3', 'K4'],\n",
    "                        'A': ['A0', 'A1', 'A2', 'A3', 'A4'],\n",
    "                        'B': ['B0', 'B1', 'B2', 'B3', 'B4']\n",
    "                       })\n",
    "\n",
    "# right dataframe\n",
    "right_df = pd.DataFrame({\n",
    "                        \"key\": [\"K1\", \"K2\", \"K3\", \"K4\", \"K5\"],\n",
    "                        \"C\": [\"C1\", \"C2\", \"C3\", \"C4\", \"C5\"],\n",
    "                        \"D\": [\"D1\", \"D2\", \"D3\", \"D4\", \"D5\"]\n",
    "                       })"
   ]
  },
  {
   "cell_type": "code",
   "execution_count": null,
   "metadata": {},
   "outputs": [],
   "source": [
    "left_df"
   ]
  },
  {
   "cell_type": "code",
   "execution_count": null,
   "metadata": {},
   "outputs": [],
   "source": [
    "right_df"
   ]
  },
  {
   "cell_type": "markdown",
   "metadata": {},
   "source": [
    "**Left Join**\n",
    "\n",
    "A **left join** keeps all rows from the left DataFrame and adds the corresponding rows from the right DataFrame. \n",
    "\n",
    "If there’s no match, it fills with `NaN`.\n"
   ]
  },
  {
   "cell_type": "code",
   "execution_count": null,
   "metadata": {},
   "outputs": [],
   "source": [
    "merged_left_df = pd.merge(left_df, right_df, on='key', how='left')\n",
    "\n",
    "merged_left_df"
   ]
  },
  {
   "cell_type": "markdown",
   "metadata": {},
   "source": [
    "**Right Join**\n",
    "\n",
    "A **right join** keeps all rows from the right DataFrame and adds the corresponding rows from the left DataFrame.\n"
   ]
  },
  {
   "cell_type": "code",
   "execution_count": null,
   "metadata": {},
   "outputs": [],
   "source": [
    "merged_right_df = pd.merge(left_df, right_df, on='key', how='right')\n",
    "\n",
    "merged_right_df"
   ]
  },
  {
   "cell_type": "markdown",
   "metadata": {},
   "source": [
    "**Inner Join (Default)**\n",
    "\n",
    "By default, `merge()` performs an **inner join** (only keeps the rows where both DataFrames have matching keys)."
   ]
  },
  {
   "cell_type": "code",
   "execution_count": null,
   "metadata": {},
   "outputs": [],
   "source": [
    "merged_inner_df = pd.merge(left_df, right_df, on='key', how='inner')\n",
    "# merged_inner_df = pd.merge(left_df, right_df, on='key')\n",
    "\n",
    "merged_inner_df"
   ]
  },
  {
   "cell_type": "markdown",
   "metadata": {},
   "source": [
    "**Outer Join**\n",
    "\n",
    "An **outer join** keeps all rows from both DataFrames, filling missing matches with `NaN`.\n"
   ]
  },
  {
   "cell_type": "code",
   "execution_count": null,
   "metadata": {},
   "outputs": [],
   "source": [
    "merged_outer_df = pd.merge(left_df, right_df, on='key', how='outer')\n",
    "\n",
    "merged_outer_df"
   ]
  },
  {
   "cell_type": "markdown",
   "metadata": {},
   "source": [
    "**Cross Join**\n",
    "\n",
    "A **cross join** combines every row from the first DataFrame with every row from the second.\n"
   ]
  },
  {
   "cell_type": "code",
   "execution_count": null,
   "metadata": {},
   "outputs": [],
   "source": [
    "merged_cross_df = pd.merge(left_df, right_df, how='cross')\n",
    "\n",
    "merged_cross_df\n"
   ]
  },
  {
   "cell_type": "markdown",
   "metadata": {},
   "source": [
    "**Using the `indicator` Parameter**\n",
    "\n",
    "The `indicator=True` argument helps identify the source of each row in the resulting DataFrame:\n"
   ]
  },
  {
   "cell_type": "code",
   "execution_count": null,
   "metadata": {},
   "outputs": [],
   "source": [
    "merged_with_indicator_df = pd.merge(left_df, right_df, on='key', how='outer', indicator=True)\n",
    "\n",
    "merged_with_indicator_df\n"
   ]
  },
  {
   "cell_type": "markdown",
   "metadata": {},
   "source": [
    "What happens if we want to merge on columns with different names?"
   ]
  },
  {
   "cell_type": "code",
   "execution_count": null,
   "metadata": {},
   "outputs": [],
   "source": [
    "# alpha dataframe\n",
    "alpha_df = pd.DataFrame({\n",
    "                        'key_alpha': ['K0', 'K1', 'K2', 'K3', 'K4'],\n",
    "                        'A': ['A0', 'A1', 'A2', 'A3', 'A4'],\n",
    "                        'B': ['B0', 'B1', 'B2', 'B3', 'B4']\n",
    "                       })\n",
    "\n",
    "# beta dataframe\n",
    "beta_df = pd.DataFrame({\n",
    "                        \"key_beta\": [\"K1\", \"K2\", \"K3\", \"K4\", \"K5\"],\n",
    "                        \"C\": [\"C1\", \"C2\", \"C3\", \"C4\", \"C5\"],\n",
    "                        \"D\": [\"D1\", \"D2\", \"D3\", \"D4\", \"D5\"]\n",
    "                       })"
   ]
  },
  {
   "cell_type": "code",
   "execution_count": null,
   "metadata": {},
   "outputs": [],
   "source": [
    "alpha_df"
   ]
  },
  {
   "cell_type": "code",
   "execution_count": null,
   "metadata": {},
   "outputs": [],
   "source": [
    "beta_df"
   ]
  },
  {
   "cell_type": "markdown",
   "metadata": {},
   "source": [
    "Merge on columns with different names"
   ]
  },
  {
   "cell_type": "code",
   "execution_count": null,
   "metadata": {},
   "outputs": [],
   "source": [
    "# this is an inner join by default\n",
    "\n",
    "pd.merge(alpha_df, beta_df, left_on='key_alpha', right_on='key_beta').drop(columns={\"key_beta\"})"
   ]
  },
  {
   "cell_type": "markdown",
   "metadata": {},
   "source": [
    "---\n",
    "\n",
    "## 4. Detailed Explanation of `join()`\n",
    "\n",
    "The `join()` function is used to join two DataFrames on their index. It’s most useful when working with indexed data.\n",
    "\n",
    "*Example*\n",
    "\n",
    "Let’s create two DataFrames with different data but matching indices.\n"
   ]
  },
  {
   "cell_type": "code",
   "execution_count": null,
   "metadata": {},
   "outputs": [],
   "source": [
    "# Creating DataFrames with matching indices\n",
    "\n",
    "df1 = pd.DataFrame({\n",
    "    \"A\": [\"A0\", \"A1\", \"A2\", \"A3\"],\n",
    "    \"B\": [\"B0\", \"B1\", \"B2\", \"B3\"]\n",
    "}, index=[\"I0\", \"I1\", \"I2\", \"I3\"])\n",
    "\n",
    "df2 = pd.DataFrame({\n",
    "    \"C\": [\"C0\", \"C1\", \"C2\", \"C3\"],\n",
    "    \"D\": [\"D0\", \"D1\", \"D2\", \"D3\"]\n",
    "}, index=[\"I1\", \"I2\", \"I3\", \"I4\"])\n"
   ]
  },
  {
   "cell_type": "code",
   "execution_count": null,
   "metadata": {},
   "outputs": [],
   "source": [
    "df1"
   ]
  },
  {
   "cell_type": "code",
   "execution_count": null,
   "metadata": {},
   "outputs": [],
   "source": [
    "df2"
   ]
  },
  {
   "cell_type": "markdown",
   "metadata": {},
   "source": [
    "**Using `join()`**"
   ]
  },
  {
   "cell_type": "code",
   "execution_count": null,
   "metadata": {},
   "outputs": [],
   "source": [
    "# Joining on the index\n",
    "\n",
    "joined_df = df1.join(df2, how='left') # default är left join\n",
    "\n",
    "joined_df\n"
   ]
  },
  {
   "cell_type": "markdown",
   "metadata": {},
   "source": [
    "You can also control how the join behaves with the `how` parameter (similar to `merge()`):\n"
   ]
  },
  {
   "cell_type": "code",
   "execution_count": null,
   "metadata": {},
   "outputs": [],
   "source": [
    "# Left Join (default)\n",
    "joined_right = df1.join(df2, how='right')\n",
    "\n",
    "joined_right"
   ]
  },
  {
   "cell_type": "code",
   "execution_count": null,
   "metadata": {},
   "outputs": [],
   "source": [
    "# Outer Join\n",
    "joined_outer = df1.join(df2, how='outer')\n",
    "\n",
    "joined_outer"
   ]
  },
  {
   "cell_type": "code",
   "execution_count": null,
   "metadata": {},
   "outputs": [],
   "source": [
    "# Inner Join\n",
    "joined_inner = df1.join(df2, how='inner')\n",
    "\n",
    "joined_inner"
   ]
  },
  {
   "cell_type": "markdown",
   "metadata": {},
   "source": [
    "---\n",
    "\n",
    "## 5. Detailed Explanation of `concat()`\n",
    "\n",
    "The `concat()` function is used to concatenate DataFrames along a specific axis (either rows or columns).\n",
    "\n",
    "*Example*\n",
    "\n",
    "Let’s create two DataFrames to demonstrate concatenation.\n"
   ]
  },
  {
   "cell_type": "code",
   "execution_count": null,
   "metadata": {},
   "outputs": [],
   "source": [
    "df1 = pd.DataFrame({\n",
    "    \"A\": [\"A0\", \"A1\", \"A2\"],\n",
    "    \"B\": [\"B0\", \"B1\", \"B2\"]\n",
    "})\n",
    "\n",
    "df2 = pd.DataFrame({\n",
    "    \"A\": [\"A3\", \"A4\", \"A5\"],\n",
    "    \"B\": [\"B3\", \"B4\", \"B5\"]\n",
    "})\n",
    "\n",
    "\n",
    "\n"
   ]
  },
  {
   "cell_type": "code",
   "execution_count": null,
   "metadata": {},
   "outputs": [],
   "source": [
    "df1"
   ]
  },
  {
   "cell_type": "code",
   "execution_count": null,
   "metadata": {},
   "outputs": [],
   "source": [
    "df2"
   ]
  },
  {
   "cell_type": "markdown",
   "metadata": {},
   "source": [
    "**Concatenating Along Rows (Default)**\n",
    "\n",
    "By default, `concat()` stacks DataFrames vertically (along rows).\n"
   ]
  },
  {
   "cell_type": "code",
   "execution_count": null,
   "metadata": {},
   "outputs": [],
   "source": [
    "concat_rows_df = pd.concat([df1, df2])\n",
    "concat_rows_df"
   ]
  },
  {
   "cell_type": "markdown",
   "metadata": {},
   "source": [
    "**Concatenating Along Columns**\n",
    "\n",
    "To stack DataFrames side by side (along columns), set the `axis` parameter to `1`.\n"
   ]
  },
  {
   "cell_type": "code",
   "execution_count": null,
   "metadata": {},
   "outputs": [],
   "source": [
    "# Concatenate along columns\n",
    "\n",
    "concat_columns_df = pd.concat([df1, df2], axis=1)\n",
    "concat_columns_df\n"
   ]
  },
  {
   "cell_type": "markdown",
   "metadata": {},
   "source": [
    "Pandas Merge, Join, Concat examples documentation\n",
    "\n",
    "https://pandas.pydata.org/docs/user_guide/merging.html"
   ]
  },
  {
   "cell_type": "markdown",
   "metadata": {},
   "source": [
    "___\n",
    "\n",
    "## 6. Duplicated keys"
   ]
  },
  {
   "cell_type": "markdown",
   "metadata": {},
   "source": [
    "Let's see what happens if key's appear more than once in respective dataframes."
   ]
  },
  {
   "cell_type": "code",
   "execution_count": null,
   "metadata": {},
   "outputs": [],
   "source": [
    "\n",
    "\n",
    "left_df = pd.DataFrame( \n",
    "                        {\n",
    "                        \"key\": [\"K0\", \"K1\", \"K2\", \"K3\", \"K4\"],\n",
    "                        \"A\": [\"A0\", \"A1\", \"A2\", \"A3\", \"A4\"],\n",
    "                        \"B\": [\"B0\", \"B1\", \"B2\", \"B3\", \"B4\"]\n",
    "                        }\n",
    "                      )\n",
    "\n",
    "right_df = pd.DataFrame(\n",
    "                            {\n",
    "                            \"key\": [\"K1\", \"K4\", \"K3\", \"K1\", \"K5\"],\n",
    "                            \"C\": [\"C1\", \"C2\", \"C3\", \"C4\", \"C5\"],\n",
    "                            \"D\": [\"D1\", \"D2\", \"D3\", \"D4\", \"D5\"],\n",
    "                            }\n",
    "                        )"
   ]
  },
  {
   "cell_type": "code",
   "execution_count": null,
   "metadata": {},
   "outputs": [],
   "source": [
    "left_df"
   ]
  },
  {
   "cell_type": "code",
   "execution_count": null,
   "metadata": {},
   "outputs": [],
   "source": [
    "right_df"
   ]
  },
  {
   "cell_type": "code",
   "execution_count": null,
   "metadata": {},
   "outputs": [],
   "source": [
    "pd.merge(left_df, right_df, on='key', how='left')"
   ]
  },
  {
   "cell_type": "markdown",
   "metadata": {},
   "source": [
    "**Mergin on keys with different names**\n",
    "\n",
    "Lastly, we'll showcase how to merge on keys with different names."
   ]
  },
  {
   "cell_type": "code",
   "execution_count": null,
   "metadata": {},
   "outputs": [],
   "source": [
    "left_df = pd.DataFrame( \n",
    "            {\n",
    "                \"key\": [\"K0\", \"K1\", \"K2\", \"K3\", \"K4\"],\n",
    "                \"A\": [\"A0\", \"A1\", \"A2\", \"A3\", \"A4\"],\n",
    "                \"B\": [\"B0\", \"B1\", \"B2\", \"B3\", \"B4\"]\n",
    "            }\n",
    "                      )\n",
    "\n",
    "right_df = pd.DataFrame(\n",
    "            {\n",
    "                \"nyckel\": [\"K1\", \"K2\", \"K3\", \"K4\", \"K5\"],\n",
    "                \"C\": [\"C1\", \"C2\", \"C3\", \"C4\", \"C5\"],\n",
    "                \"D\": [\"D1\", \"D2\", \"D3\", \"D4\", \"D5\"],\n",
    "            }\n",
    "                        )"
   ]
  },
  {
   "cell_type": "code",
   "execution_count": null,
   "metadata": {},
   "outputs": [],
   "source": [
    "left_df"
   ]
  },
  {
   "cell_type": "code",
   "execution_count": null,
   "metadata": {},
   "outputs": [],
   "source": [
    "right_df"
   ]
  },
  {
   "cell_type": "code",
   "execution_count": null,
   "metadata": {},
   "outputs": [],
   "source": [
    "pd.merge(left_df, right_df, left_on='key', right_on='nyckel', how='inner')"
   ]
  },
  {
   "cell_type": "markdown",
   "metadata": {},
   "source": [
    "_____"
   ]
  },
  {
   "cell_type": "markdown",
   "metadata": {},
   "source": [
    "## SCRAPE WIKIPEDIA YE"
   ]
  },
  {
   "cell_type": "markdown",
   "metadata": {},
   "source": [
    "## probably need to:\n",
    "\n",
    "**pip install lxml**\n",
    "\n",
    "IN YOUR ENVIRONMENT!!!!"
   ]
  },
  {
   "cell_type": "code",
   "execution_count": null,
   "metadata": {},
   "outputs": [],
   "source": [
    "swedish_demo = pd.read_html('https://sv.wikipedia.org/wiki/Sveriges_demografi')\n"
   ]
  },
  {
   "cell_type": "code",
   "execution_count": null,
   "metadata": {},
   "outputs": [],
   "source": [
    "isinstance(swedish_demo, list)"
   ]
  },
  {
   "cell_type": "code",
   "execution_count": null,
   "metadata": {},
   "outputs": [],
   "source": [
    "len(swedish_demo)"
   ]
  },
  {
   "cell_type": "code",
   "execution_count": null,
   "metadata": {},
   "outputs": [],
   "source": [
    "swedish_demo[1]"
   ]
  },
  {
   "cell_type": "code",
   "execution_count": null,
   "metadata": {},
   "outputs": [],
   "source": [
    "swedish_demo[1]['Årlig tillväxt']"
   ]
  },
  {
   "cell_type": "code",
   "execution_count": null,
   "metadata": {},
   "outputs": [],
   "source": [
    "swedish_demo[1]['Årlig tillväxt']['Promille']"
   ]
  },
  {
   "cell_type": "code",
   "execution_count": null,
   "metadata": {},
   "outputs": [],
   "source": [
    "min_df = swedish_demo[1]"
   ]
  },
  {
   "cell_type": "code",
   "execution_count": null,
   "metadata": {},
   "outputs": [],
   "source": [
    "swedish_demo[1].columns = swedish_demo[1].columns.droplevel(level=0)"
   ]
  },
  {
   "cell_type": "code",
   "execution_count": null,
   "metadata": {},
   "outputs": [],
   "source": [
    "swedish_demo[1]"
   ]
  },
  {
   "cell_type": "code",
   "execution_count": null,
   "metadata": {},
   "outputs": [],
   "source": [
    "swedish_demo[1].columns.droplevel(level=0)"
   ]
  },
  {
   "cell_type": "code",
   "execution_count": null,
   "metadata": {},
   "outputs": [],
   "source": []
  }
 ],
 "metadata": {
  "kernelspec": {
   "display_name": "databehandling",
   "language": "python",
   "name": "python3"
  },
  "language_info": {
   "codemirror_mode": {
    "name": "ipython",
    "version": 3
   },
   "file_extension": ".py",
   "mimetype": "text/x-python",
   "name": "python",
   "nbconvert_exporter": "python",
   "pygments_lexer": "ipython3",
   "version": "3.12.7"
  }
 },
 "nbformat": 4,
 "nbformat_minor": 2
}
