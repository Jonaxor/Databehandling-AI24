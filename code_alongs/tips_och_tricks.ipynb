{
 "cells": [
  {
   "cell_type": "code",
   "execution_count": null,
   "metadata": {},
   "outputs": [],
   "source": [
    "import pandas as pd"
   ]
  },
  {
   "cell_type": "code",
   "execution_count": null,
   "metadata": {},
   "outputs": [],
   "source": [
    "data = {\n",
    "    'Name': ['John', 'Alice', 'Bob', 'John', 'Eve', 'Alice', 'Chris', 'David', 'Eve', 'Bob'],\n",
    "    'Age': [28, 25, 22, 28, 30, 25, 35, 32, 30, 22],\n",
    "    'City': ['New York', 'Los Angeles', 'Chicago', 'New York', 'San Francisco', 'Los Angeles', 'Chicago', 'New York', 'San Francisco', 'Los Angeles'],\n",
    "    'Department': ['HR', 'Engineering', 'Finance', 'HR', 'Engineering', 'Engineering', 'Finance', 'HR', 'Engineering', 'Finance'],\n",
    "    'Salary': [60000, 75000, 55000, 60000, 85000, 75000, 58000, 61000, 85000, 55000]\n",
    "}\n",
    "\n",
    "\n",
    "df = pd.DataFrame(data)\n",
    "\n",
    "df"
   ]
  },
  {
   "cell_type": "code",
   "execution_count": null,
   "metadata": {},
   "outputs": [],
   "source": [
    "df['Name']"
   ]
  },
  {
   "cell_type": "markdown",
   "metadata": {},
   "source": [
    "## Duplicerad data"
   ]
  },
  {
   "cell_type": "markdown",
   "metadata": {},
   "source": [
    "metod 1: genom att använda mask"
   ]
  },
  {
   "cell_type": "code",
   "execution_count": null,
   "metadata": {},
   "outputs": [],
   "source": [
    "df.duplicated()"
   ]
  },
  {
   "cell_type": "code",
   "execution_count": null,
   "metadata": {},
   "outputs": [],
   "source": [
    "duplicated_mask = df.duplicated()\n",
    "\n",
    "my_duplicated_rows_df = df[duplicated_mask]\n",
    "\n",
    "my_duplicated_rows_df"
   ]
  },
  {
   "cell_type": "code",
   "execution_count": null,
   "metadata": {},
   "outputs": [],
   "source": [
    "my_unique_rows_df = df[~duplicated_mask]\n",
    "\n",
    "my_unique_rows_df"
   ]
  },
  {
   "cell_type": "markdown",
   "metadata": {},
   "source": [
    "metod 2 för att åstadkomma samma sak"
   ]
  },
  {
   "cell_type": "code",
   "execution_count": null,
   "metadata": {},
   "outputs": [],
   "source": [
    "df.drop_duplicates() # ni kan även ange inplace=True här"
   ]
  },
  {
   "cell_type": "markdown",
   "metadata": {},
   "source": [
    "**info() för stora datasets**\n",
    "\n",
    "ibland, när din dataframe är väldigt stor, så syns inte antalet nul-values by default när du kör info()"
   ]
  },
  {
   "cell_type": "code",
   "execution_count": null,
   "metadata": {},
   "outputs": [],
   "source": [
    "df.info(show_counts=True) # kommer att visa upp antalet nulls, oavsett storlek av dataframe"
   ]
  },
  {
   "cell_type": "markdown",
   "metadata": {},
   "source": [
    "**apply()**"
   ]
  },
  {
   "cell_type": "code",
   "execution_count": null,
   "metadata": {},
   "outputs": [],
   "source": [
    "df"
   ]
  },
  {
   "cell_type": "markdown",
   "metadata": {},
   "source": [
    "Vår uppgift är följande:\n",
    "\n",
    "Vi ska bestämma procentuell ökning av lön för varje anställd. Ju lägre lön du har, desto större procentuell ökning ska du få.\n",
    "\n",
    "50000 < lön < 60000 --> 5%\n",
    "\n",
    "60000 < lön < 70000 --> 4%\n",
    "\n",
    "70000 < lön < 80000 --> 3%\n",
    "\n",
    "80000 < lön < 90000 --> 2%"
   ]
  },
  {
   "cell_type": "code",
   "execution_count": null,
   "metadata": {},
   "outputs": [],
   "source": [
    "def procentuell_ökning(lön: int | float) -> str:\n",
    "\n",
    "    '''Den här funktionen tar in en lön, och spottar ur sig procentuell ökning'''\n",
    "\n",
    "    if 50000 < lön <= 60000:\n",
    "        ökning = '5%'\n",
    "    elif 60000 < lön <= 70000:\n",
    "        ökning = '4%'\n",
    "    elif 70000 < lön <= 80000:\n",
    "        ökning = '3%'\n",
    "    elif 80000 < lön <= 90000:\n",
    "        ökning = '2%'\n",
    "\n",
    "    return ökning\n"
   ]
  },
  {
   "cell_type": "code",
   "execution_count": null,
   "metadata": {},
   "outputs": [],
   "source": [
    "df['Procentuell ökning (sträng)'] = df['Salary'].apply(procentuell_ökning)"
   ]
  },
  {
   "cell_type": "code",
   "execution_count": null,
   "metadata": {},
   "outputs": [],
   "source": [
    "df"
   ]
  },
  {
   "cell_type": "code",
   "execution_count": null,
   "metadata": {},
   "outputs": [],
   "source": [
    "def procentuell_ökning_v2(lön: int | float) -> float:\n",
    "\n",
    "    '''Den här funktionen tar in en lön, och spottar ur sig procentuell ökning'''\n",
    "\n",
    "    if 50000 < lön <= 60000:\n",
    "        ökning = 1.05\n",
    "    elif 60000 < lön <= 70000:\n",
    "        ökning = 1.04\n",
    "    elif 70000 < lön <= 80000:\n",
    "        ökning = 1.03\n",
    "    elif 80000 < lön <= 90000:\n",
    "        ökning = 1.02\n",
    "\n",
    "    return ökning"
   ]
  },
  {
   "cell_type": "code",
   "execution_count": null,
   "metadata": {},
   "outputs": [],
   "source": [
    "df['Procentuell ökning'] = df['Salary'].apply(procentuell_ökning_v2)\n",
    "\n",
    "df"
   ]
  },
  {
   "cell_type": "code",
   "execution_count": null,
   "metadata": {},
   "outputs": [],
   "source": [
    "df['Salary after increase'] = df['Salary'] * df['Procentuell ökning']\n",
    "\n",
    "df"
   ]
  },
  {
   "cell_type": "markdown",
   "metadata": {},
   "source": [
    "**Small tip to make multi-indeces more tangible**"
   ]
  },
  {
   "cell_type": "code",
   "execution_count": null,
   "metadata": {},
   "outputs": [],
   "source": [
    "# this is now a multi-index series\n",
    "\n",
    "df.groupby(['City', 'Department'])['Salary'].sum()"
   ]
  },
  {
   "cell_type": "markdown",
   "metadata": {},
   "source": [
    "Alis trick"
   ]
  },
  {
   "cell_type": "code",
   "execution_count": null,
   "metadata": {},
   "outputs": [],
   "source": [
    "my_multi_index_series = df.groupby(['City', 'Department'])['Salary'].sum()\n",
    "\n",
    "my_multi_index_series"
   ]
  },
  {
   "cell_type": "code",
   "execution_count": null,
   "metadata": {},
   "outputs": [],
   "source": [
    "my_multi_index_series.reset_index()"
   ]
  },
  {
   "cell_type": "markdown",
   "metadata": {},
   "source": [
    "________"
   ]
  },
  {
   "cell_type": "code",
   "execution_count": null,
   "metadata": {},
   "outputs": [],
   "source": [
    "df['Name'].value_counts().reset_index()"
   ]
  },
  {
   "cell_type": "code",
   "execution_count": null,
   "metadata": {},
   "outputs": [],
   "source": []
  }
 ],
 "metadata": {
  "kernelspec": {
   "display_name": "databehandling",
   "language": "python",
   "name": "python3"
  },
  "language_info": {
   "codemirror_mode": {
    "name": "ipython",
    "version": 3
   },
   "file_extension": ".py",
   "mimetype": "text/x-python",
   "name": "python",
   "nbconvert_exporter": "python",
   "pygments_lexer": "ipython3",
   "version": "3.12.7"
  }
 },
 "nbformat": 4,
 "nbformat_minor": 2
}
