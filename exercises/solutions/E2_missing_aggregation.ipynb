{
 "cells": [
  {
   "cell_type": "markdown",
   "metadata": {},
   "source": [
    "\n",
    "<a href=\"https://colab.research.google.com/github/aleylani/Databehandling-AI24/blob/main/exercises/E01_missing_aggregation.ipynb\" target=\"_parent\"><img align=\"left\" src=\"https://colab.research.google.com/assets/colab-badge.svg\" alt=\"Open In Colab\"/></a> &nbsp; to see hints and answers."
   ]
  },
  {
   "cell_type": "markdown",
   "metadata": {},
   "source": [
    "---\n",
    "# Missing data and aggregations exercises\n",
    "\n",
    "---\n",
    "These are introductory exercises in Pandas with focus in **syntax, indexing, data selection, missing data, aggregations, visualizations** and **data cleaning**.\n",
    "\n",
    "<p class = \"alert alert-info\" role=\"alert\"><b>Note</b> all datasets used in this exercise can be found under Data folder of the course Github repo</p>\n",
    "\n",
    "<p class = \"alert alert-info\" role=\"alert\"><b>Note</b> that there are usually many ways to achieve same results using operations in pandas. Feel free to investigate several ways. </p>\n",
    "\n",
    "<p class = \"alert alert-info\" role=\"alert\"><b>Note</b> that in cases when you start to repeat code, try not to. Create functions to reuse code instead. </p>\n",
    "\n",
    "<p class = \"alert alert-info\" role=\"alert\"><b>Remember</b> to use <b>descriptive variable, function, index </b> and <b> column names</b> in order to get readable code </p>\n",
    "\n",
    "<p class = \"alert alert-info\" role=\"alert\"><b>Remember</b> to format your input questions in a pedagogical way to guide the user\n",
    "\n",
    "The number of stars (\\*), (\\*\\*), (\\*\\*\\*) denotes the difficulty level of the task\n",
    "\n",
    "---"
   ]
  },
  {
   "cell_type": "markdown",
   "metadata": {},
   "source": [
    "## 1. Find missing values (*)\n",
    "\n",
    "&nbsp; a) Read in the file \"student-mat-missing-data.csv\" found in the course github repo into a Pandas DataFrame\n",
    "\n",
    "You can read more about this dataset and the columns here https://www.kaggle.com/datasets/uciml/student-alcohol-consumption\n",
    "\n",
    "&nbsp; b) Do some initial explorations with the methods to get an understanding of the dataset:\n",
    "```py\n",
    "head(), info(), describe(), value_counts(), unique(), columns\n",
    "```\n",
    "\n",
    "&nbsp; c) Create a function that takes in a DataFrame as input parameter and plots a histplot with the columns that have missing values.\n",
    "          \n",
    "Here's the official documentation for Seaborn histplot https://seaborn.pydata.org/generated/seaborn.histplot.html\n",
    "\n",
    "&nbsp; d) Find all rows where the freetime is NaN.   \n",
    "\n",
    "&nbsp; e) Find all rows where the freetime **or** the age is NaN. \n",
    "        \n",
    "For this task, you might find this site useful https://builtin.com/data-science/pandas-filter\n",
    "\n",
    "&nbsp; f) You will notice that some rows have several NaNs. Now compute the proportion that these rows constitute of the whole dataset.\n",
    "\n",
    "<details>\n",
    "<summary>Hint</summary>\n",
    "\n",
    "&nbsp; c) Use \n",
    "```py\n",
    "isnull()\n",
    "```\n",
    "in combination with aggregation functions such as \n",
    "```py\n",
    "sum()\n",
    "```\n",
    "\n",
    "Use seaborn to plot\n",
    "\n",
    "f) use bitwise or: | \n",
    "\n",
    "\n",
    "</details>\n",
    "\n",
    "<br/>\n",
    "\n",
    "<details>\n",
    "\n",
    "<summary>Answer</summary>\n",
    "\n",
    "d)\n",
    "\n",
    "![null values graph](../assets/null_vals_student.png)\n",
    "\n",
    "e) \n",
    "\n",
    "These row indices: \n",
    "[87, 99, 130, 149, 151, 160, 191, 257, 276, 293, 308, 330, 343, 359, 372, 385]\n",
    " \n",
    "f) \n",
    "\n",
    "These row indices:\n",
    "[20,  71,  87,  99, 102, 106, 121, 130, 149, 151, 160, 188, 191, 214, 257, 270, 276, 293, 308, 330, 343, 348, 359, 372, 385]\n",
    "\n",
    "g) \n",
    "\n",
    "These rows constitutes 0.0127 of the dataset\n",
    "\n",
    "h)\n",
    "\n",
    "![null values graph after cleaned once](../assets/null_vals_student_2.png)\n",
    "\n",
    "</details>"
   ]
  },
  {
   "cell_type": "markdown",
   "metadata": {},
   "source": [
    "**a)**"
   ]
  },
  {
   "cell_type": "code",
   "execution_count": null,
   "metadata": {},
   "outputs": [],
   "source": [
    "import pandas as pd\n",
    "import seaborn as sns\n",
    "import matplotlib.pyplot as plt"
   ]
  },
  {
   "cell_type": "code",
   "execution_count": null,
   "metadata": {},
   "outputs": [],
   "source": [
    "students_df = pd.read_csv('../../data/student-mat-missing-data.csv', index_col=0) # ange kolumn 0 som index-kolumn\n",
    "\n",
    "students_df"
   ]
  },
  {
   "cell_type": "markdown",
   "metadata": {},
   "source": [
    "**b)**"
   ]
  },
  {
   "cell_type": "code",
   "execution_count": null,
   "metadata": {},
   "outputs": [],
   "source": [
    "#students_df.info()\n",
    "#students_df.describe()\n",
    "students_df.isnull().sum()  # antal null-värden i varje kolumn"
   ]
  },
  {
   "cell_type": "markdown",
   "metadata": {},
   "source": [
    "**c)**"
   ]
  },
  {
   "cell_type": "code",
   "execution_count": null,
   "metadata": {},
   "outputs": [],
   "source": [
    "from utilities import find_columns_with_nulls_and_plot, find_and_plot_missing_value_counts"
   ]
  },
  {
   "cell_type": "code",
   "execution_count": null,
   "metadata": {},
   "outputs": [],
   "source": [
    "find_columns_with_nulls_and_plot(students_df)"
   ]
  },
  {
   "cell_type": "code",
   "execution_count": null,
   "metadata": {},
   "outputs": [],
   "source": [
    "find_and_plot_missing_value_counts(students_df)"
   ]
  },
  {
   "cell_type": "markdown",
   "metadata": {},
   "source": [
    "**d)**"
   ]
  },
  {
   "cell_type": "code",
   "execution_count": null,
   "metadata": {},
   "outputs": [],
   "source": [
    "students_df['freetime'].isnull()"
   ]
  },
  {
   "cell_type": "code",
   "execution_count": null,
   "metadata": {},
   "outputs": [],
   "source": [
    "freetime_isnull_filter = students_df['freetime'].isnull()\n",
    "\n",
    "students_df[freetime_isnull_filter]"
   ]
  },
  {
   "cell_type": "markdown",
   "metadata": {},
   "source": [
    "**e)**"
   ]
  },
  {
   "cell_type": "code",
   "execution_count": null,
   "metadata": {},
   "outputs": [],
   "source": [
    "freetime_isnull_filter = students_df['freetime'].isnull()\n",
    "age_isnull_filter = students_df['age'].isnull()\n",
    "\n",
    "students_df[freetime_isnull_filter | age_isnull_filter]\n"
   ]
  },
  {
   "cell_type": "markdown",
   "metadata": {},
   "source": [
    "**f)**"
   ]
  },
  {
   "cell_type": "code",
   "execution_count": null,
   "metadata": {},
   "outputs": [],
   "source": [
    "total_dataset_size = len(students_df)  # ger dig antalet rader i datasetet\n",
    "\n",
    "print(total_dataset_size)"
   ]
  },
  {
   "cell_type": "code",
   "execution_count": null,
   "metadata": {},
   "outputs": [],
   "source": [
    "subset_size = len(students_df[freetime_isnull_filter & age_isnull_filter])\n",
    "\n",
    "print(subset_size)"
   ]
  },
  {
   "cell_type": "code",
   "execution_count": null,
   "metadata": {},
   "outputs": [],
   "source": [
    "subset_size/total_dataset_size"
   ]
  },
  {
   "cell_type": "markdown",
   "metadata": {},
   "source": [
    "---\n",
    "## 2. Clean the data (*)\n",
    "\n",
    "&nbsp; a) As you have conversed with a domain expert you both agree that there are too many missing data to fill in and the proportion is small enough to be safe to just remove.  \n",
    "Now remove the rows with atleast 2 missing values, and create a new utility function to plot that plots the amount of missing values remaining in each column.\n",
    "\n",
    "&nbsp; b) The domain expert has told you that you have to fill in the missing age values.\n",
    "Start with visualising the age distribution in the dataset using a histogram. \n",
    "\n",
    "&nbsp; c) Check which columns there are in the dataset to see what can be utilised in determining the age.\n",
    "\n",
    "&nbsp; d) The column higher seems interesting. Let's see which unique values it can have. \n",
    "\n",
    "&nbsp; e) Let's see if we can see some connection between age distribution and higher.\n",
    "Make 3 subplots of age histograms:\n",
    "- Plot 1: same as b)\n",
    "- Plot 2: age distribution when higher is yes \n",
    "- Plot 3: age distribution when higher is no  \n",
    "\n",
    "&nbsp; f) That was hard to find a connection. When reading [dataset source](https://www.kaggle.com/uciml/student-alcohol-consumption) we find alcohol consumption, maybe there is some connection between age and alcohol consumption.\n",
    "- Dalc - workday alcohol consumption (numeric: from 1 - very low to 5 - very high)\n",
    "- Walc - weekend alcohol consumption (numeric: from 1 - very low to 5 - very high)\n",
    "\n",
    "&nbsp; Start with creating a new column called Alcohol, which is a sum of Dalc and Walc columns\n",
    "\n",
    "&nbsp; g) Make a barchart for alcohol consumption vs age.\n",
    "\n",
    "&nbsp; h) We see that older students tend to drink more, but notice how few 20-22 year-old students we have in the dataset. We can definitely exclude them when computing the missing values. However there are also few 19 year-old students in the dataset, say for simplicity that we can exclude them as well. This leaves: \n",
    "- alcohol level >= 4 -> 16, 17 or 18 years old -> take median to simplify \n",
    "- alcohol level < 4 -> 15 years old\n",
    "\n",
    "Fill these in and visualize missing values. \n",
    "\n",
    "&nbsp; Note: could make more stringent by computing percentages based on the distribution\n",
    "\n",
    "\n",
    "<details>\n",
    "<summary>Answer</summary>\n",
    "\n",
    "a)\n",
    "\n",
    "![null values graph after cleaned once](../assets/null_vals_student_2.png)\n",
    "\n",
    "b)\n",
    "\n",
    "![Age distribution](../assets/age_distribution_student.png)\n",
    "\n",
    "c)\n",
    "\n",
    "```python\n",
    "\n",
    "Index(['Unnamed: 0', 'school', 'sex', 'age', 'address', 'famsize', 'Pstatus',\n",
    "       'Medu', 'Fedu', 'Mjob', 'Fjob', 'reason', 'guardian', 'traveltime',\n",
    "       'studytime', 'failures', 'schoolsup', 'famsup', 'paid', 'activities',\n",
    "       'nursery', 'higher', 'internet', 'romantic', 'famrel', 'freetime',\n",
    "       'goout', 'Dalc', 'Walc', 'health', 'absences', 'G1', 'G2', 'G3'],\n",
    "      dtype='object')\n",
    "```\n",
    "\n",
    "d)\n",
    "\n",
    "```python\n",
    "\n",
    "array(['yes', 'no'], dtype=object)\n",
    "\n",
    "```\n",
    "\n",
    "e)\n",
    "\n",
    "![Age distribution with higher](../assets/age_dist_higher.png)\n",
    "\n",
    "f) \n",
    "\n",
    "```python\n",
    "\n",
    "0      2\n",
    "1      2\n",
    "2      5\n",
    "3      2\n",
    "4      3\n",
    "      ..\n",
    "390    9\n",
    "391    7\n",
    "392    6\n",
    "393    7\n",
    "394    6\n",
    "Name: Alcohol, Length: 390, dtype: int64\n",
    "\n",
    "```\n",
    "\n",
    "g)\n",
    "\n",
    "![Age distribution vs alcohol](../assets/alcohol_age.png)\n",
    "\n",
    "</details>"
   ]
  },
  {
   "cell_type": "markdown",
   "metadata": {},
   "source": [
    "**a)**"
   ]
  },
  {
   "cell_type": "code",
   "execution_count": null,
   "metadata": {},
   "outputs": [],
   "source": [
    "import seaborn as sns"
   ]
  },
  {
   "cell_type": "code",
   "execution_count": null,
   "metadata": {},
   "outputs": [],
   "source": [
    "find_and_plot_missing_value_counts(students_df)"
   ]
  },
  {
   "cell_type": "code",
   "execution_count": null,
   "metadata": {},
   "outputs": [],
   "source": [
    "students_df.isnull().sum()"
   ]
  },
  {
   "cell_type": "code",
   "execution_count": null,
   "metadata": {},
   "outputs": [],
   "source": [
    "# hitta alla RADER (obserera axis=1 i sum()) med 2 eller fler missing values\n",
    "# observera att detta blir en Boolean Series - som vi kan använda som filter \n",
    "\n",
    "rader_med_missing_values_plural_filter = students_df.isnull().sum(axis=1) > 1"
   ]
  },
  {
   "cell_type": "code",
   "execution_count": null,
   "metadata": {},
   "outputs": [],
   "source": [
    "# vi kan negera (göra motsatsen) till ett filter genom att lägga till symbolen tilde ~ framför\n",
    "\n",
    "~rader_med_missing_values_plural_filter"
   ]
  },
  {
   "cell_type": "code",
   "execution_count": null,
   "metadata": {},
   "outputs": [],
   "source": [
    "students_df = students_df[~rader_med_missing_values_plural_filter].reset_index(drop=True)\n",
    "\n",
    "students_df"
   ]
  },
  {
   "cell_type": "markdown",
   "metadata": {},
   "source": [
    "**b)**"
   ]
  },
  {
   "cell_type": "code",
   "execution_count": null,
   "metadata": {},
   "outputs": [],
   "source": [
    "plt.figure(figsize=(8, 5))\n",
    "\n",
    "sns.histplot(students_df['age'], bins=8, kde=True)\n",
    "\n",
    "plt.title(\"Age distribution\")\n",
    "plt.xlabel(\"age\")\n",
    "plt.ylabel(\"frequency\")\n",
    "plt.show()"
   ]
  },
  {
   "cell_type": "markdown",
   "metadata": {},
   "source": [
    "---\n",
    "## 3. Clean freetime column (**)\n",
    "\n",
    "Now there are missing data on freetime that needs to be filled. \n",
    "- Try yourself and find reasonable approaches for how you would fill those missing data.\n",
    "- Document what you have tried and different findings\n",
    "- Combine suitable visualizations with pandas methods"
   ]
  },
  {
   "cell_type": "markdown",
   "metadata": {},
   "source": [
    "---\n",
    "## 4. Billionare Statistic Dataset (**)"
   ]
  },
  {
   "cell_type": "markdown",
   "metadata": {},
   "source": [
    "Link to dataset: https://www.kaggle.com/datasets/nelgiriyewithana/billionaires-statistics-dataset"
   ]
  },
  {
   "cell_type": "markdown",
   "metadata": {},
   "source": [
    "Basic Insights:\n",
    "\n",
    "    a) Begin by reading through the dataset description, which you can find by following the link\n",
    "\n",
    "    b) Download and load the dataset into a Pandas DataFrame\n",
    "\n",
    "    c) What is the distribution of billionaires' ages in the dataset?\n",
    "        Visualization: Create a histogram of billionaire ages.\n",
    "\n",
    "    d) How many billionaires are self-made (status \"D\") compared to those who inherited their wealth (status \"U\")?\n",
    "        Visualization: Create a bar chart or pie chart to illustrate the distribution.\n",
    "\n",
    "Comparative Analysis:\n",
    "    \n",
    "    e) Which country has the highest number of billionaires, and what is the most common industry category among them?\n",
    "\n",
    "        Visualization: Create a bar chart showing the top countries with the most billionaires and a separate bar chart showing the top industries.\n",
    "\n",
    "    f) Are there any trends or correlations between a country's GDP and the number of billionaires it has?\n",
    "        \n",
    "        Visualization: Create a scatter plot to visualize the relationship between GDP and the number of billionaires for each country.\n",
    "\n",
    "    g) Study the relationship between age and whether a billionaire is self-made. Do younger billionaires tend to be self-made compared to older ones?\n",
    "        \n",
    "        Visualization: Create a violin plot showing the age distribution for self-made versus inherited billionaires."
   ]
  },
  {
   "cell_type": "markdown",
   "metadata": {},
   "source": [
    "**b)**\n",
    "\n",
    "\n"
   ]
  },
  {
   "cell_type": "code",
   "execution_count": null,
   "metadata": {},
   "outputs": [],
   "source": [
    "import pandas as pd\n",
    "import seaborn as sns\n",
    "\n",
    "import matplotlib.pyplot as plt"
   ]
  },
  {
   "cell_type": "code",
   "execution_count": null,
   "metadata": {},
   "outputs": [],
   "source": [
    "billionare_df = pd.read_csv(\"../../data/Billionaires Statistics Dataset.csv\")\n",
    "\n",
    "billionare_df.head()"
   ]
  },
  {
   "cell_type": "markdown",
   "metadata": {},
   "source": [
    "**c)**"
   ]
  },
  {
   "cell_type": "code",
   "execution_count": null,
   "metadata": {},
   "outputs": [],
   "source": [
    "billionare_df['age'].mode()[0]"
   ]
  },
  {
   "cell_type": "code",
   "execution_count": null,
   "metadata": {},
   "outputs": [],
   "source": [
    "plt.figure(figsize=(8, 5))\n",
    "sns.histplot(billionare_df['age'])\n",
    "\n",
    "mean_age = round(billionare_df['age'].mean(), 1)\n",
    "mode_age = billionare_df['age'].mode()[0]\n",
    "\n",
    "plt.title(f'Mean age: {mean_age}, Mode age: {mode_age}')\n",
    "plt.show()\n"
   ]
  },
  {
   "cell_type": "markdown",
   "metadata": {},
   "source": [
    "**d)**"
   ]
  },
  {
   "cell_type": "code",
   "execution_count": null,
   "metadata": {},
   "outputs": [],
   "source": [
    "self_made = billionare_df['selfMade'].value_counts()\n",
    "\n",
    "self_made.sort_values(ascending=False, inplace=True)\n",
    "\n",
    "self_made"
   ]
  },
  {
   "cell_type": "code",
   "execution_count": null,
   "metadata": {},
   "outputs": [],
   "source": [
    "number_of_self_made = self_made[True]\n",
    "number_of_inherited = self_made[False]"
   ]
  },
  {
   "cell_type": "code",
   "execution_count": null,
   "metadata": {},
   "outputs": [],
   "source": [
    "print(f'There are {number_of_self_made} self-made billionares, vs {number_of_inherited} who inherited theirs.' )"
   ]
  },
  {
   "cell_type": "code",
   "execution_count": null,
   "metadata": {},
   "outputs": [],
   "source": [
    "explode = (0, 0.1)\n",
    "\n",
    "plt.pie(self_made, labels=[f'self-made ({number_of_self_made})', f'inherited ({number_of_inherited})'], \n",
    "        autopct='%1.1f%%', explode=explode, shadow=True)\n",
    "plt.title('Distribution of self-made vs inherited billionares')\n",
    "plt.show()\n",
    "\n",
    "print(f'There are {number_of_self_made} self-made billionares, vs {number_of_inherited} who inherited theirs.' )"
   ]
  },
  {
   "cell_type": "markdown",
   "metadata": {},
   "source": [
    "**e)**"
   ]
  },
  {
   "cell_type": "code",
   "execution_count": null,
   "metadata": {},
   "outputs": [],
   "source": [
    "top_country = billionare_df['country'].value_counts().index[0]\n",
    "number_of_billionares = billionare_df['country'].value_counts().values[0]\n",
    "\n",
    "top_country_filter = billionare_df['country'] == top_country\n",
    "top_country_df = billionare_df[top_country_filter].reset_index(drop=True)\n",
    "\n",
    "top_country_top_industry = top_country_df['industries'].value_counts().index[0]\n",
    "number_of_top_industry = top_country_df['industries'].value_counts().values[0]\n",
    "\n",
    "print(f'According to the data, {top_country} has the most amount of billionares ({number_of_billionares}).')\n",
    "print(f'In {top_country}, most billionares ({number_of_top_industry}) are associated with {top_country_top_industry}.')"
   ]
  },
  {
   "cell_type": "code",
   "execution_count": null,
   "metadata": {},
   "outputs": [],
   "source": [
    "top_countries = billionare_df['country'].value_counts().head(10).index\n",
    "top_contries_number_of_billionares = billionare_df['country'].value_counts().head(10).values\n",
    "\n",
    "top_countries_filter = billionare_df['country'].isin(top_countries)\n",
    "top_countries_df = billionare_df[top_countries_filter].reset_index(drop=True)\n",
    "\n",
    "top_countries_top_industries = top_countries_df['industries'].value_counts().head(10).index\n",
    "top_countries_top_industries_count = top_countries_df['industries'].value_counts().head(10).values\n",
    "\n",
    "#print(top_countries)\n",
    "#print(top_contries_number_of_billionares)\n",
    "\n",
    "sns.barplot(y=top_countries, x=top_contries_number_of_billionares, hue=top_countries)\n",
    "plt.title('Amount of billionares in most dense billionare countries')\n",
    "plt.show()\n",
    "\n",
    "sns.barplot(y=top_countries_top_industries, x=top_countries_top_industries_count, hue=top_countries_top_industries)\n",
    "plt.title('Billionares per industry in top countries')\n",
    "plt.show()"
   ]
  },
  {
   "cell_type": "markdown",
   "metadata": {},
   "source": [
    "Om vi vill plotta side-by-side.\n",
    "\n",
    "**Observera** dock att de gemensamma färger över bägge plottar är starkt bidragande till potentiella missförstånd!\n",
    "\n",
    "**Lösning**: ha olika färgscheman för 2:a plotten. Figure out how to do this yourself!"
   ]
  },
  {
   "cell_type": "code",
   "execution_count": null,
   "metadata": {},
   "outputs": [],
   "source": [
    "fig, ax = plt.subplots(1, 2, figsize=(15, 6))\n",
    "\n",
    "sns.barplot(ax=ax[0], y=top_countries, x=top_contries_number_of_billionares, hue=top_countries)\n",
    "ax[0].set_title('Amount of Billionaires in Most Dense Billionaire Countries')\n",
    "\n",
    "sns.barplot(ax=ax[1], y=top_countries_top_industries, x=top_countries_top_industries_count, color='cyan')\n",
    "ax[1].set_title('Billionaires per Industry in Top Countries')\n",
    "\n",
    "plt.tight_layout()\n",
    "plt.show()"
   ]
  },
  {
   "cell_type": "markdown",
   "metadata": {},
   "source": [
    "**f)**"
   ]
  },
  {
   "cell_type": "code",
   "execution_count": null,
   "metadata": {},
   "outputs": [],
   "source": [
    "billionare_df['gdp_country'].isnull().sum()"
   ]
  },
  {
   "cell_type": "code",
   "execution_count": null,
   "metadata": {},
   "outputs": [],
   "source": [
    "for i in billionare_df['gdp_country']:\n",
    "    print(i)"
   ]
  },
  {
   "cell_type": "code",
   "execution_count": null,
   "metadata": {},
   "outputs": [],
   "source": [
    "pd.Series([type(x) for x in billionare_df['gdp_country']]).value_counts()"
   ]
  },
  {
   "cell_type": "code",
   "execution_count": null,
   "metadata": {},
   "outputs": [],
   "source": [
    "a_string = '$2,715,518,274,227'\n",
    "\n",
    "a_string = a_string.replace('$', '')\n",
    "\n",
    "print(a_string)"
   ]
  },
  {
   "cell_type": "code",
   "execution_count": null,
   "metadata": {},
   "outputs": [],
   "source": [
    "billionare_df['gdp_per_country_cleaned'] = [int(x.replace('$', '').replace(',','')) if isinstance(x, str) else None for x in billionare_df['gdp_country']]"
   ]
  },
  {
   "cell_type": "code",
   "execution_count": null,
   "metadata": {},
   "outputs": [],
   "source": []
  },
  {
   "cell_type": "code",
   "execution_count": null,
   "metadata": {},
   "outputs": [],
   "source": [
    "billionare_counts_per_country = billionare_df['country'].value_counts()\n",
    "\n",
    "billionare_counts_per_country"
   ]
  },
  {
   "cell_type": "code",
   "execution_count": null,
   "metadata": {},
   "outputs": [],
   "source": [
    "billionare_df[['country', 'gdp_per_country_cleaned']]"
   ]
  },
  {
   "cell_type": "code",
   "execution_count": null,
   "metadata": {},
   "outputs": [],
   "source": [
    "billionare_df[billionare_df['country'] == 'United States']['gdp_per_country_cleaned'].values[0]"
   ]
  },
  {
   "cell_type": "code",
   "execution_count": null,
   "metadata": {},
   "outputs": [],
   "source": [
    "gdps = []\n",
    "countries = []\n",
    "number_of_billionares = []\n",
    "\n",
    "billionare_counts_per_country = billionare_df['country'].value_counts()\n",
    "\n",
    "for country in billionare_df['country'].unique():\n",
    "\n",
    "    if country is not np.nan:\n",
    "\n",
    "        #print(country)\n",
    "\n",
    "        country_df = billionare_df[billionare_df['country'] == country]\n",
    "\n",
    "        countries.append(country)\n",
    "        gdps.append(country_df['gdp_per_country_cleaned'].mean())\n",
    "        number_of_billionares.append(billionare_df['country'].value_counts()[country])\n",
    "    "
   ]
  },
  {
   "cell_type": "code",
   "execution_count": null,
   "metadata": {},
   "outputs": [],
   "source": [
    "condensed_df = pd.DataFrame({'country': countries, \n",
    "                             'gdp': gdps, \n",
    "                             'number_of_billionares': number_of_billionares})\n",
    "\n",
    "condensed_df.sort_values(by='number_of_billionares', ascending=False, inplace=True)\n",
    "condensed_df = condensed_df.reset_index(drop=True)\n",
    "\n",
    "condensed_df"
   ]
  },
  {
   "cell_type": "code",
   "execution_count": null,
   "metadata": {},
   "outputs": [],
   "source": [
    "condensed_cleaned_df = condensed_df.dropna().reset_index(drop=True)\n",
    "\n",
    "condensed_cleaned_df"
   ]
  },
  {
   "cell_type": "code",
   "execution_count": null,
   "metadata": {},
   "outputs": [],
   "source": [
    "sns.scatterplot(data=condensed_cleaned_df, x='gdp', y='number_of_billionares', hue='country')\n",
    "plt.title(\"Relationship between GDP and Number of Billionaires\")\n",
    "plt.legend(bbox_to_anchor=(1.05, 1), loc=2, borderaxespad=0.)"
   ]
  },
  {
   "cell_type": "code",
   "execution_count": null,
   "metadata": {},
   "outputs": [],
   "source": [
    "condensed_cleaned_df"
   ]
  },
  {
   "cell_type": "code",
   "execution_count": null,
   "metadata": {},
   "outputs": [],
   "source": [
    "gdp_top_2_removed_df = condensed_cleaned_df.iloc[2:].reset_index(drop=True)\n",
    "\n",
    "gdp_top_2_removed_df"
   ]
  },
  {
   "cell_type": "code",
   "execution_count": null,
   "metadata": {},
   "outputs": [],
   "source": [
    "sns.scatterplot(data=gdp_top_2_removed_df, x='gdp', y='number_of_billionares', hue='country')\n",
    "plt.title(\"Relationship between GDP and Number of Billionaires\")\n",
    "plt.grid(True)\n",
    "plt.legend(bbox_to_anchor=(1.05, 1), loc=2, borderaxespad=0.)"
   ]
  },
  {
   "cell_type": "code",
   "execution_count": null,
   "metadata": {},
   "outputs": [],
   "source": [
    "gdp_top_2_removed_df[gdp_top_2_removed_df['number_of_billionares'].between(38, 42)]"
   ]
  }
 ],
 "metadata": {
  "kernelspec": {
   "display_name": "databehandling",
   "language": "python",
   "name": "python3"
  },
  "language_info": {
   "codemirror_mode": {
    "name": "ipython",
    "version": 3
   },
   "file_extension": ".py",
   "mimetype": "text/x-python",
   "name": "python",
   "nbconvert_exporter": "python",
   "pygments_lexer": "ipython3",
   "version": "3.12.7"
  },
  "orig_nbformat": 4
 },
 "nbformat": 4,
 "nbformat_minor": 2
}
