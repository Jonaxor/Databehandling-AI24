{
 "cells": [
  {
   "cell_type": "markdown",
   "metadata": {},
   "source": [
    "# Introduction to Seaborn\n",
    "\n",
    "**Seaborn** is a powerful Python library for data visualization built on top of Matplotlib. \n",
    "\n",
    "While Matplotlib is great for creating basic plots, Seaborn makes it easier to create beautiful, informative visualizations with less effort. Since you already have some experience with Matplotlib, this will be a smooth transition and we'll dive into some key functionalities Seaborn offers.\n",
    "\n",
    "**Key topics**\n",
    "\n",
    "1. What is Seaborn and why use it?\n",
    "2. Seaborn vs Matplotlib\n",
    "3. Getting Started with Seaborn\n",
    "4. Built-in Seaborn Datasets\n",
    "5. Seaborn's Core Plots:\n",
    "   - Scatter Plots\n",
    "   - Line Plots\n",
    "   - Bar Plots \n",
    "   - Box Plots \n",
    "   - Violin Plots    \n",
    "   - Pair Plot\n",
    "   - Regression Plots\n",
    "   - Histogram Plots\n",
    "6. Customizing Plots (Themes, Colors, Styles)\n",
    "7. Tips for Combining Seaborn with Matplotlib\n"
   ]
  },
  {
   "cell_type": "markdown",
   "metadata": {},
   "source": [
    "___\n",
    "\n",
    "# 1. What is Seaborn and Why Use It?\n",
    "\n",
    "**Seaborn** is built on top of Matplotlib and is designed to make data visualization easier and more informative. Some reasons why Seaborn is worth using:\n",
    "\n",
    "- **Simplifies complex visualizations**: Seaborn automates tasks like setting labels, managing plot aesthetics, and displaying statistical relationships.\n",
    "- **Integrates well with Pandas**: Since Seaborn is designed to work with Pandas DataFrames, plotting from DataFrames becomes straightforward.\n",
    "- **Prettier default aesthetics**: Seaborn's visual style is cleaner and more modern by default, which can save time on customization.\n"
   ]
  },
  {
   "cell_type": "markdown",
   "metadata": {
    "vscode": {
     "languageId": "plaintext"
    }
   },
   "source": [
    "___\n",
    "\n",
    "# 2. Seaborn vs Matplotlib\n",
    "\n",
    "Seaborn is **not a replacement for Matplotlib** but an extension. Here's a basic comparison:\n",
    "\n",
    "| Feature                    | Matplotlib                                        | Seaborn                                              |\n",
    "|----------------------------|--------------------------------------------------|------------------------------------------------------|\n",
    "| Default plot aesthetics     | Basic and customizable                           | Pretty, clean, and minimal customization needed       |\n",
    "| Ease of creating complex plots | Can be verbose and code-heavy                    | Simplified, often one-liners                         |\n",
    "| Statistical plots           | Requires manual effort                           | Built-in support for common statistical visualizations|\n",
    "| Data handling               | Works well with arrays and lists                 | Optimized for Pandas DataFrames                      |\n"
   ]
  },
  {
   "cell_type": "markdown",
   "metadata": {},
   "source": [
    "____\n",
    "\n",
    "# 3. Getting Started with Seaborn\n"
   ]
  },
  {
   "cell_type": "markdown",
   "metadata": {},
   "source": [
    "Make sure you have Seaborn installed. If you don't have it, install it via:\n",
    "\n",
    "\n",
    "    pip install seaborn\n"
   ]
  },
  {
   "cell_type": "code",
   "execution_count": 1,
   "metadata": {},
   "outputs": [],
   "source": [
    "# necessary libraries\n",
    "\n",
    "import numpy as np\n",
    "import pandas as pd\n",
    "\n",
    "import seaborn as sns\n",
    "import matplotlib.pyplot as plt"
   ]
  },
  {
   "cell_type": "markdown",
   "metadata": {},
   "source": [
    "____\n",
    "\n",
    "# 4. Built-in Seaborn Datasets\n",
    "\n",
    "Seaborn comes with several built-in datasets, which you can load directly into a Pandas DataFrame. One popular dataset is the `tips` dataset, which contains data about the total bill, tips, gender, and other features of restaurant bills.\n",
    "\n",
    "Let’s load and inspect the `tips` dataset.\n"
   ]
  },
  {
   "cell_type": "code",
   "execution_count": null,
   "metadata": {},
   "outputs": [],
   "source": [
    "# Code: Load the 'tips' dataset\n",
    "tips_df = sns.load_dataset('tips')\n",
    "\n",
    "# Display the first 5 rows\n",
    "tips_df.head()\n"
   ]
  },
  {
   "cell_type": "code",
   "execution_count": null,
   "metadata": {},
   "outputs": [],
   "source": [
    "tips_df['size'].value_counts()"
   ]
  },
  {
   "cell_type": "markdown",
   "metadata": {},
   "source": [
    "____\n",
    "# 5. Seaborn's Core Plots\n",
    "## Scatter Plots\n",
    "\n",
    "A scatter plot shows the relationship between two continuous variables. Seaborn’s `scatterplot()` provides a great interface to create them.\n"
   ]
  },
  {
   "cell_type": "code",
   "execution_count": null,
   "metadata": {},
   "outputs": [],
   "source": [
    "# Code: Scatter plot: Total Bill vs Tip\n",
    "sns.scatterplot(x='total_bill', y='tip', data=tips_df)\n",
    "plt.show()\n"
   ]
  },
  {
   "cell_type": "markdown",
   "metadata": {},
   "source": [
    "**Adding categorical differentiation:**\n",
    "\n",
    "You can differentiate points based on categories like gender.\n"
   ]
  },
  {
   "cell_type": "code",
   "execution_count": null,
   "metadata": {},
   "outputs": [],
   "source": [
    "# Scatter plot with hue (sex)\n",
    "# note that this adds another dimension to our visualisations,\n",
    "# allowing for more information to be conveyed in a single plot\n",
    "\n",
    "sns.scatterplot(x='total_bill', y='tip', hue='sex', data=tips_df)\n",
    "plt.show()\n"
   ]
  },
  {
   "cell_type": "code",
   "execution_count": null,
   "metadata": {},
   "outputs": [],
   "source": [
    "sns.scatterplot(x='total_bill', y='tip', hue='size', data=tips_df)\n",
    "plt.show()"
   ]
  },
  {
   "cell_type": "markdown",
   "metadata": {},
   "source": [
    "## Line Plots\n",
    "\n",
    "Line plots are typically used for visualizing trends over time. While Matplotlib has `plt.plot()`, Seaborn offers more flexibility and integrates better with data structures like Pandas.\n"
   ]
  },
  {
   "cell_type": "code",
   "execution_count": null,
   "metadata": {},
   "outputs": [],
   "source": [
    "# load another sample dataset\n",
    "\n",
    "flights_df = sns.load_dataset('flights')\n",
    "\n",
    "flights_df.head()\n"
   ]
  },
  {
   "cell_type": "code",
   "execution_count": null,
   "metadata": {},
   "outputs": [],
   "source": [
    "# line plot showing the number of passengers over time\n",
    "sns.lineplot(x='year', y='passengers', data=flights_df)\n",
    "plt.show()"
   ]
  },
  {
   "cell_type": "markdown",
   "metadata": {},
   "source": [
    "**Grouping by a category**\n",
    "\n",
    "Seaborn allows you to plot multiple lines, each representing a different category.\n"
   ]
  },
  {
   "cell_type": "code",
   "execution_count": null,
   "metadata": {},
   "outputs": [],
   "source": [
    "# line plot with hue (month)\n",
    "# splits and plots a seperate line for each month\n",
    "\n",
    "sns.lineplot(x='year', y='passengers', hue='month', data=flights_df)\n",
    "plt.show()\n"
   ]
  },
  {
   "cell_type": "markdown",
   "metadata": {},
   "source": [
    "## Bar Plots \n",
    "\n",
    "Bar plots display the relationship between a categorical variable and a numeric variable. `barplot()` will calculate the mean of the numeric variable for each category by default.\n"
   ]
  },
  {
   "cell_type": "code",
   "execution_count": null,
   "metadata": {},
   "outputs": [],
   "source": [
    "#Bar plot showing average total bill by day\n",
    "\n",
    "sns.barplot(x='day', y='total_bill', data=tips_df)\n",
    "plt.show()\n"
   ]
  },
  {
   "cell_type": "markdown",
   "metadata": {},
   "source": [
    "## Box Plots\n",
    "A box plot is great for visualizing the distribution of a numeric variable. It shows the median, interquartile range, and potential outliers.\n"
   ]
  },
  {
   "cell_type": "code",
   "execution_count": null,
   "metadata": {},
   "outputs": [],
   "source": [
    "# Box plot: Total Bill vs Day\n",
    "\n",
    "sns.boxplot(x='day', y='total_bill', data=tips_df)\n",
    "plt.show()\n"
   ]
  },
  {
   "cell_type": "markdown",
   "metadata": {},
   "source": [
    "**Box plots grouped by another variable:**\n",
    "\n",
    "You can group the data further using a `hue`.\n"
   ]
  },
  {
   "cell_type": "code",
   "execution_count": null,
   "metadata": {},
   "outputs": [],
   "source": [
    "# box plot with hue (sex)\n",
    "\n",
    "sns.boxplot(x='day', y='total_bill', hue='sex', data=tips_df)\n",
    "plt.show()\n"
   ]
  },
  {
   "cell_type": "markdown",
   "metadata": {},
   "source": [
    "## Violin Plots\n",
    "\n",
    "A violin plot combines aspects of a box plot and a kernel density plot. It provides insight into the distribution and density of the data.\n"
   ]
  },
  {
   "cell_type": "code",
   "execution_count": null,
   "metadata": {},
   "outputs": [],
   "source": [
    "# Violin plot showing distribution of total bill by day\n",
    "\n",
    "sns.violinplot(x='day', y='total_bill', data=tips_df)\n",
    "plt.show()\n"
   ]
  },
  {
   "cell_type": "markdown",
   "metadata": {},
   "source": [
    "**Violin plots can be grouped usingign `hue`**\n"
   ]
  },
  {
   "cell_type": "code",
   "execution_count": null,
   "metadata": {},
   "outputs": [],
   "source": [
    "# Violin plot with hue (sex)\n",
    "\n",
    "sns.violinplot(x='day', y='total_bill', hue='sex', data=tips_df)\n",
    "plt.show()\n"
   ]
  },
  {
   "cell_type": "markdown",
   "metadata": {},
   "source": [
    "## Pair Plots\n",
    "\n",
    "A `pairplot()` creates a grid of scatter plots (and histograms for univariate distributions) for each pair of features in the dataset."
   ]
  },
  {
   "cell_type": "code",
   "execution_count": null,
   "metadata": {},
   "outputs": [],
   "source": [
    "sns.pairplot(tips_df)\n",
    "plt.show()\n"
   ]
  },
  {
   "cell_type": "markdown",
   "metadata": {},
   "source": [
    "You can also specify which variables to include, or add `hue` to color-code by a category.\n"
   ]
  },
  {
   "cell_type": "code",
   "execution_count": null,
   "metadata": {},
   "outputs": [],
   "source": [
    "sns.pairplot(tips_df, hue='sex')\n",
    "plt.show()"
   ]
  },
  {
   "cell_type": "markdown",
   "metadata": {},
   "source": [
    "## Regression Plots\n",
    "Regression plots show the linear relationship between two variables. The `regplot()` automatically fits and plots a regression line.\n"
   ]
  },
  {
   "cell_type": "code",
   "execution_count": null,
   "metadata": {},
   "outputs": [],
   "source": [
    "# Regression plot: Total Bill vs Tip\n",
    "\n",
    "sns.regplot(x='total_bill', y='tip', data=tips_df)\n",
    "plt.show()\n"
   ]
  },
  {
   "cell_type": "markdown",
   "metadata": {},
   "source": [
    "## Histograms\n",
    "\n",
    "Seaborn provides a powerful histogram function with flexible binning\n"
   ]
  },
  {
   "cell_type": "code",
   "execution_count": null,
   "metadata": {},
   "outputs": [],
   "source": [
    "# Histogram of total bills\n",
    "\n",
    "sns.histplot(data=tips_df, x='total_bill', kde=True, bins=30)\n",
    "plt.show()"
   ]
  },
  {
   "cell_type": "markdown",
   "metadata": {},
   "source": [
    "As per usual, we can use 'hue' to group or data"
   ]
  },
  {
   "cell_type": "code",
   "execution_count": null,
   "metadata": {},
   "outputs": [],
   "source": [
    "# Histogram of total bills\n",
    "\n",
    "sns.histplot(data=tips_df, x='total_bill', kde=True, bins=30, hue='sex')\n",
    "plt.show()\n",
    "\n"
   ]
  },
  {
   "cell_type": "markdown",
   "metadata": {},
   "source": [
    "## KDE Plot\n",
    "\n",
    "The Kernel Density Estimate plot shows the estimated probability density function of a continuous variable.\n"
   ]
  },
  {
   "cell_type": "code",
   "execution_count": null,
   "metadata": {},
   "outputs": [],
   "source": [
    "# KDE plot of total bill\n",
    "\n",
    "sns.kdeplot(data=tips_df, x='total_bill')\n",
    "plt.show()\n"
   ]
  },
  {
   "cell_type": "code",
   "execution_count": null,
   "metadata": {},
   "outputs": [],
   "source": [
    "sns.kdeplot(data=tips_df, x='total_bill', hue='sex')\n",
    "plt.show()"
   ]
  },
  {
   "cell_type": "markdown",
   "metadata": {},
   "source": [
    "____\n",
    "\n",
    "# 6. Customizing Plots (Themes, Colors, Styles)\n",
    "\n",
    "Seaborn makes it easy to customize the appearance of plots using themes and color palettes.\n",
    "\n",
    "## Setting a Theme\n",
    "\n",
    "You can choose from different themes such as `darkgrid`, `whitegrid`, `dark`, `white`, and `ticks`.\n"
   ]
  },
  {
   "cell_type": "code",
   "execution_count": null,
   "metadata": {},
   "outputs": [],
   "source": [
    "# Code: Set the theme to 'darkgrid'\n",
    "sns.set_theme(style='whitegrid')\n",
    "\n",
    "# Example plot\n",
    "sns.scatterplot(x='total_bill', y='tip', data=tips_df)\n",
    "plt.show()\n"
   ]
  },
  {
   "cell_type": "markdown",
   "metadata": {},
   "source": [
    "## Color Palettes\n",
    "\n",
    "Seaborn allows you to choose from built-in color palettes, or you can create your own custom palette.\n"
   ]
  },
  {
   "cell_type": "code",
   "execution_count": null,
   "metadata": {},
   "outputs": [],
   "source": [
    "# Set a color palette\n",
    "sns.set_palette('pastel')  # Use e.g., 'bright', 'deep', 'muted', 'pastel', 'dark', or 'colorblind'\n",
    "\n",
    "# Example plot with pastel colors\n",
    "\n",
    "sns.histplot(data=tips_df, x='total_bill', kde=True, bins=30)\n",
    "plt.show()\n",
    "\n"
   ]
  },
  {
   "cell_type": "markdown",
   "metadata": {},
   "source": [
    "____\n",
    "\n",
    "# 7. Combining Seaborn with Matplotlib\n",
    "\n",
    "Since Seaborn is built on top of Matplotlib, you can combine Seaborn's high-level plotting with Matplotlib's customization capabilities. For example, you can modify titles, axes, or legends with Matplotlib commands.\n"
   ]
  },
  {
   "cell_type": "code",
   "execution_count": null,
   "metadata": {},
   "outputs": [],
   "source": [
    "# Seaborn plot with Matplotlib customization\n",
    "sns.scatterplot(x='total_bill', y='tip', hue='sex', data=tips_df)\n",
    "\n",
    "plt.title('Scatter Plot of Total Bill vs Tip by Gender')\n",
    "plt.xlabel('Total Bill ($)')\n",
    "plt.ylabel('Tip ($)')\n",
    "plt.show()\n"
   ]
  }
 ],
 "metadata": {
  "kernelspec": {
   "display_name": "databehandling",
   "language": "python",
   "name": "python3"
  },
  "language_info": {
   "codemirror_mode": {
    "name": "ipython",
    "version": 3
   },
   "file_extension": ".py",
   "mimetype": "text/x-python",
   "name": "python",
   "nbconvert_exporter": "python",
   "pygments_lexer": "ipython3",
   "version": "3.12.7"
  }
 },
 "nbformat": 4,
 "nbformat_minor": 2
}
