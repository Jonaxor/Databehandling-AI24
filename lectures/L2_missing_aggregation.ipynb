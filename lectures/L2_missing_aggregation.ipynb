{
 "cells": [
  {
   "cell_type": "markdown",
   "metadata": {},
   "source": [
    "## Pandas: Data Manipulation & Handling Missing Data\n",
    "\n",
    "In this lesson, we'll cover foundational techniques in Pandas for data manipulation, including creating and modifying DataFrames, handling missing data, and grouping data for aggregation. We’ll also dive deeper into strategies for imputing missing values (None or NaN) in datasets."
   ]
  },
  {
   "cell_type": "markdown",
   "metadata": {},
   "source": [
    "____"
   ]
  },
  {
   "cell_type": "markdown",
   "metadata": {},
   "source": [
    "## Imports and Setup\n",
    "\n",
    "First, let’s import the necessary libraries."
   ]
  },
  {
   "cell_type": "code",
   "execution_count": 70,
   "metadata": {},
   "outputs": [],
   "source": [
    "import numpy as np\n",
    "import pandas as pd\n",
    "\n",
    "import random"
   ]
  },
  {
   "cell_type": "markdown",
   "metadata": {},
   "source": [
    "## Creating a DataFrame with Random Data\n",
    "\n",
    "Let’s create a DataFrame with 10 columns, each filled with random integers between 0 and 50. \n",
    "\n",
    "This simulated data will help us practice the various Pandas techniques."
   ]
  },
  {
   "cell_type": "code",
   "execution_count": null,
   "metadata": {},
   "outputs": [],
   "source": [
    "# create a dictionary of lists where each column contains 10 random values\n",
    "data_dict = {f'column {i}': [random.randint(0, 50) for j in range(10)] for i in range(10)}\n",
    "\n",
    "# convert it into a DataFrame\n",
    "data_df = pd.DataFrame(data_dict)\n",
    "\n",
    "data_df"
   ]
  },
  {
   "cell_type": "markdown",
   "metadata": {},
   "source": [
    "## Modifying Data in a DataFrame\n",
    "\n",
    "**Using iloc and loc to alter data based on Position**\n",
    "\n",
    "You can use either *iloc* or *loc* to modify values in a DataFrame by position (i.e., by row and column indices). "
   ]
  },
  {
   "cell_type": "code",
   "execution_count": null,
   "metadata": {},
   "outputs": [],
   "source": [
    "# let's change the value in row 2, column 3 to -100, using iloc\n",
    "\n",
    "data_df.iloc[2, 3] = -100\n",
    "data_df"
   ]
  },
  {
   "cell_type": "code",
   "execution_count": null,
   "metadata": {},
   "outputs": [],
   "source": [
    "# let's change the value in row 7, column 8 to 999, using loc\n",
    "\n",
    "data_df.loc[7, 'column 8'] = 999\n",
    "data_df"
   ]
  },
  {
   "cell_type": "code",
   "execution_count": null,
   "metadata": {},
   "outputs": [],
   "source": [
    "# changing multiple values at once using iloc\n",
    "\n",
    "data_df.iloc[0:3, 0:3] = 0\n",
    "data_df"
   ]
  },
  {
   "cell_type": "markdown",
   "metadata": {},
   "source": [
    "**Using iloc and loc to modify values based on conditions**\n",
    "\n",
    "You can also use loc or iloc to change values of rows that satisfy certain conditions."
   ]
  },
  {
   "cell_type": "code",
   "execution_count": null,
   "metadata": {},
   "outputs": [],
   "source": [
    "# Use iloc to modify values by position for rows that satisfy a condition\n",
    "\n",
    "data_df.iloc[(data_df['column 0'] > 30).values, 5:7] = 1000\n",
    "data_df"
   ]
  },
  {
   "cell_type": "code",
   "execution_count": null,
   "metadata": {},
   "outputs": [],
   "source": [
    "# Use loc to change values based on a condition\n",
    "\n",
    "data_df.loc[data_df['column 0'] > 25, 'column 1'] = 123456789\n",
    "data_df"
   ]
  },
  {
   "cell_type": "markdown",
   "metadata": {},
   "source": [
    "____\n",
    "\n",
    "## Handling missing data in Pandas\n",
    "\n",
    "Missing data is common in real-world datasets, and handling it appropriately is critical. Pandas provides several tools for identifying, filling, or removing missing data. In this section, we'll go over how to handle None, NaN, and pd.NA.\n",
    "\n",
    "**Introducing missing data**\n",
    "\n",
    "Let’s introduce some missing data into our DataFrame by manually setting some values to None (Python’s representation for missing data)."
   ]
  },
  {
   "cell_type": "code",
   "execution_count": null,
   "metadata": {},
   "outputs": [],
   "source": [
    "# Introduce missing data\n",
    "data_df.loc[2, 'column 6'] = None\n",
    "data_df.loc[4, 'column 7'] = None\n",
    "\n",
    "# Display the DataFrame with missing values\n",
    "data_df\n"
   ]
  },
  {
   "cell_type": "code",
   "execution_count": null,
   "metadata": {},
   "outputs": [],
   "source": [
    "data_df.info()"
   ]
  },
  {
   "cell_type": "markdown",
   "metadata": {},
   "source": [
    "**Checking for missing data**\n",
    "\n",
    "To check where missing values are present in the DataFrame, you can use the isna() or isnull() methods."
   ]
  },
  {
   "cell_type": "code",
   "execution_count": null,
   "metadata": {},
   "outputs": [],
   "source": [
    "# check for missing values in the DataFrame\n",
    "\n",
    "data_df.isnull()\n",
    "\n",
    "#data_df.isna() # equivalent method"
   ]
  },
  {
   "cell_type": "code",
   "execution_count": null,
   "metadata": {},
   "outputs": [],
   "source": [
    "# Get the total count of missing values in each column\n",
    "# This one works by counting and returning the number of True values in each column, which are the missing values in this case\n",
    "\n",
    "data_df.isnull().sum()"
   ]
  },
  {
   "cell_type": "markdown",
   "metadata": {},
   "source": [
    "Note that the above is now a series, and we can thus use the .sum() method again to get the total count of missing values in the DataFrame, as a single integer."
   ]
  },
  {
   "cell_type": "code",
   "execution_count": null,
   "metadata": {},
   "outputs": [],
   "source": [
    "data_df.isnull().sum().sum()"
   ]
  },
  {
   "cell_type": "markdown",
   "metadata": {},
   "source": [
    "We can also use .notnull(), to see which cells are not null."
   ]
  },
  {
   "cell_type": "code",
   "execution_count": null,
   "metadata": {},
   "outputs": [],
   "source": [
    "data_df.notnull()"
   ]
  },
  {
   "cell_type": "markdown",
   "metadata": {},
   "source": [
    "____"
   ]
  },
  {
   "cell_type": "markdown",
   "metadata": {},
   "source": [
    "## Strategies for handling missing data\n",
    "\n",
    "**Strategy 1: Dropping missing data**\n",
    "\n",
    "In some cases, especially when the amount of missing data is minimal or irrelevant, it's common to drop rows or columns containing missing values."
   ]
  },
  {
   "cell_type": "code",
   "execution_count": null,
   "metadata": {},
   "outputs": [],
   "source": [
    "# drop rows with missing values\n",
    "\n",
    "data_df.dropna(inplace=False)  # Set inplace=True to modify the DataFrame in place"
   ]
  },
  {
   "cell_type": "markdown",
   "metadata": {},
   "source": [
    "Alternatively, you can drop columns with missing values"
   ]
  },
  {
   "cell_type": "code",
   "execution_count": null,
   "metadata": {},
   "outputs": [],
   "source": [
    "# drop columns with missing values\n",
    "\n",
    "data_df.dropna(axis=1, inplace=False)"
   ]
  },
  {
   "cell_type": "markdown",
   "metadata": {},
   "source": [
    "**Important**\n",
    "\n",
    "The strategy of droppping rows/columns is suitable when the missing data represents a small fraction of your dataset and when removing such rows/columns won’t negatively impact any subsequent analysis."
   ]
  },
  {
   "cell_type": "markdown",
   "metadata": {},
   "source": [
    "## Strategy 2: Filling missing data (Imputation)\n",
    "\n",
    "Filling missing data is a more flexible strategy. There are various techniques to impute missing values depending on the type of data and its distribution.\n",
    "\n",
    "**Filling with a constant value**\n",
    "\n",
    "You can replace missing values with a constant, such as 0 or Unknown (for categorical data):"
   ]
  },
  {
   "cell_type": "code",
   "execution_count": null,
   "metadata": {},
   "outputs": [],
   "source": [
    "# Fill missing numerical values with 666\n",
    "\n",
    "data_df.fillna(666, inplace=False)"
   ]
  },
  {
   "cell_type": "markdown",
   "metadata": {},
   "source": [
    "**Filling with statistical values (Mean, Median, Mode)**\n",
    "\n",
    "A common approach is to replace missing values with the mean, median, or mode (most frequent value) of the column. This is useful when the missing data is numerical, and you don’t want to distort the distribution too much.\n",
    "\n",
    "**Mean Imputation**"
   ]
  },
  {
   "cell_type": "code",
   "execution_count": null,
   "metadata": {},
   "outputs": [],
   "source": [
    "# Fill missing values with the mean of the column\n",
    "\n",
    "data_df['column 6'].fillna(data_df['column 6'].mean(), inplace=False)"
   ]
  },
  {
   "cell_type": "markdown",
   "metadata": {},
   "source": [
    "**Median Imputation**"
   ]
  },
  {
   "cell_type": "code",
   "execution_count": null,
   "metadata": {},
   "outputs": [],
   "source": [
    "# Fill missing values with the median of the column\n",
    "\n",
    "data_df['column 6'].fillna(data_df['column 6'].median(), inplace=False)"
   ]
  },
  {
   "cell_type": "markdown",
   "metadata": {},
   "source": [
    "**Mode Imputation**"
   ]
  },
  {
   "cell_type": "code",
   "execution_count": null,
   "metadata": {},
   "outputs": [],
   "source": [
    "# Fill missing values with the most frequent value\n",
    "\n",
    "data_df['column 7'].fillna(data_df['column 7'].mode()[0], inplace=False)"
   ]
  },
  {
   "cell_type": "markdown",
   "metadata": {},
   "source": [
    "**Important**\n",
    "\n",
    "This strategy is useful when your dataset contains a significant amount of missing data, and the missing values are likely to be similar to other values in the same column. Choose the imputation method based on the type of data and domain knowledge.\n",
    "\n",
    "However, be very mindful about how this can potentially distort the distribution of your data, and how this can affect any subsequent analysis!"
   ]
  },
  {
   "cell_type": "markdown",
   "metadata": {},
   "source": [
    "____"
   ]
  },
  {
   "cell_type": "markdown",
   "metadata": {},
   "source": [
    "## Considerations when dealing with missing data\n",
    "\n",
    "*Understand the Cause*: Why is the data missing? Is it random, or does it represent a particular pattern (e.g., not applicable)? Understanding the reason for missing data can guide your strategy.\n",
    "\n",
    "*Domain Knowledge*: The best imputation technique often depends on the context of the data. For example, in a dataset of exam scores, you might assume that missing scores should be filled with 0. For income data, it might make more sense to fill missing values with the median.\n",
    "\n",
    "*Imputation Bias*: Be mindful of introducing bias through imputation. For example, filling all missing values with the mean might underestimate variability in the data.\n",
    "\n",
    "*Testing Sensitivity*: If your data analysis is sensitive to missing values, you might want to test different imputation methods and compare results."
   ]
  },
  {
   "cell_type": "markdown",
   "metadata": {},
   "source": [
    "____"
   ]
  },
  {
   "cell_type": "markdown",
   "metadata": {},
   "source": [
    "## Grouping data with groupby\n",
    "\n",
    "Grouping data allows you to aggregate values based on one or more categorical variables. This is useful for summary statistics and gaining insights.\n",
    "\n",
    "**Grouping and aggregating by a single column**\n",
    "\n",
    "Let’s use an example similar to the Titanic dataset, where you might want to group data by categories such as sex or pclass."
   ]
  },
  {
   "cell_type": "code",
   "execution_count": null,
   "metadata": {},
   "outputs": [],
   "source": [
    "import seaborn as sns \n",
    "\n",
    "# Seaborn has some toy datasets for learning: https://github.com/mwaskom/seaborn-data\n",
    "\n",
    "titanic_df = sns.load_dataset(\"titanic\")\n",
    "\n",
    "titanic_df.head()"
   ]
  },
  {
   "cell_type": "code",
   "execution_count": null,
   "metadata": {},
   "outputs": [],
   "source": [
    "titanic_df.info()"
   ]
  },
  {
   "cell_type": "code",
   "execution_count": null,
   "metadata": {},
   "outputs": [],
   "source": [
    "# Median age of passengers by sex\n",
    "\n",
    "titanic_df.groupby('sex')['age'].median()"
   ]
  },
  {
   "cell_type": "markdown",
   "metadata": {},
   "source": [
    "**Grouping and Aggregating by multiple columns**\n",
    "\n",
    "You can group data by more than one column to perform multi-level aggregations."
   ]
  },
  {
   "cell_type": "code",
   "execution_count": null,
   "metadata": {},
   "outputs": [],
   "source": [
    "# Median age and fare by sex and survival status\n",
    "\n",
    "titanic_df.groupby(['sex', 'survived'])[['age', 'fare']].median()"
   ]
  },
  {
   "cell_type": "code",
   "execution_count": null,
   "metadata": {},
   "outputs": [],
   "source": [
    "\n",
    "sns.histplot(data= titanic_df, x=\"age\", bins=100, hue='sex')"
   ]
  }
 ],
 "metadata": {
  "kernelspec": {
   "display_name": "databehandling",
   "language": "python",
   "name": "python3"
  },
  "language_info": {
   "codemirror_mode": {
    "name": "ipython",
    "version": 3
   },
   "file_extension": ".py",
   "mimetype": "text/x-python",
   "name": "python",
   "nbconvert_exporter": "python",
   "pygments_lexer": "ipython3",
   "version": "3.12.7"
  }
 },
 "nbformat": 4,
 "nbformat_minor": 2
}
