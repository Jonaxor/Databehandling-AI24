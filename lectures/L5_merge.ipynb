{
 "cells": [
  {
   "cell_type": "markdown",
   "metadata": {},
   "source": [
    "# Pandas: Merge, Join, and Concatenate\n",
    "\n",
    "Pandas provides powerful ways to combine datasets. In this lesson, we will explore the three main functions used for this purpose:\n",
    "\n",
    "- **`merge()`**: Combines datasets based on common columns or indices.\n",
    "- **`join()`**: Joins two DataFrames based on their indices.\n",
    "- **`concat()`**: Concatenates multiple DataFrames along rows or columns.\n",
    "\n",
    "## Table of Contents:\n",
    "1. **The Three Main Functions**\n",
    "2. **Understanding Different Types of Joins**\n",
    "3. **Detailed Explanation of `merge()`**\n",
    "4. **Detailed Explanation of `join()`**\n",
    "5. **Detailed Explanation of `concat()`**\n",
    "6. **Duplicated Keys**\n",
    "\n",
    "---\n",
    "\n",
    "## 1. The Three Main Functions\n",
    "\n",
    "Pandas has three main functions for combining datasets:\n",
    "\n",
    "1. **`merge()`**: Works similar to SQL joins. It combines DataFrames based on common columns or indices.\n",
    "2. **`join()`**: A convenient method for joining DataFrames on their index.\n",
    "3. **`concat()`**: Concatenates DataFrames along a particular axis (either rows or columns).\n",
    "\n",
    "---\n",
    "\n",
    "## 2. Understanding Different Types of Joins\n",
    "\n",
    "When combining datasets, there are various ways to handle matching and non-matching data. These are called join types:\n",
    "\n",
    "- **`left` join**: Includes all keys from the left DataFrame and corresponding matches from the right DataFrame.\n",
    "- **`right` join**: Includes all keys from the right DataFrame and corresponding matches from the left DataFrame.\n",
    "- **`inner` join**: Includes only the keys that are common in both DataFrames (intersection).\n",
    "- **`outer` join**: Includes all keys from both DataFrames (union).\n",
    "- **`cross` join**: Produces the Cartesian product of rows, matching every row from the first DataFrame with every row from the second.\n",
    "\n",
    "Let’s start with examples!\n",
    "\n",
    "---\n",
    "\n",
    "## 3. Detailed Explanation of `merge()`\n",
    "\n",
    "The `merge()` function is often used when you want to combine DataFrames based on common columns or indices, much like SQL joins."
   ]
  },
  {
   "cell_type": "markdown",
   "metadata": {},
   "source": [
    "*Example*\n",
    "\n",
    "We will work with the following two DataFrames, `left_df` and `right_df`, based on a shared `key` column."
   ]
  },
  {
   "cell_type": "code",
   "execution_count": 3,
   "metadata": {},
   "outputs": [],
   "source": [
    "import pandas as pd\n",
    "\n",
    "# Left DataFrame\n",
    "left_df = pd.DataFrame({\n",
    "                        \"key\": [\"K0\", \"K1\", \"K2\", \"K3\", \"K4\"],\n",
    "                        \"A\": [\"A0\", \"A1\", \"A2\", \"A3\", \"A4\"],\n",
    "                        \"B\": [\"B0\", \"B1\", \"B2\", \"B3\", \"B4\"]\n",
    "                       })\n",
    "\n",
    "# Right DataFrame\n",
    "right_df = pd.DataFrame({\n",
    "                        \"key\": [\"K1\", \"K2\", \"K3\", \"K4\", \"K5\"],\n",
    "                        \"C\": [\"C1\", \"C2\", \"C3\", \"C4\", \"C5\"],\n",
    "                        \"D\": [\"D1\", \"D2\", \"D3\", \"D4\", \"D5\"]\n",
    "                       })\n"
   ]
  },
  {
   "cell_type": "code",
   "execution_count": null,
   "metadata": {},
   "outputs": [],
   "source": [
    "left_df"
   ]
  },
  {
   "cell_type": "code",
   "execution_count": null,
   "metadata": {},
   "outputs": [],
   "source": [
    "right_df"
   ]
  },
  {
   "cell_type": "markdown",
   "metadata": {},
   "source": [
    "**Left Join**\n",
    "\n",
    "A **left join** keeps all rows from the left DataFrame and adds the corresponding rows from the right DataFrame. \n",
    "\n",
    "If there’s no match, it fills with `NaN`.\n"
   ]
  },
  {
   "cell_type": "code",
   "execution_count": null,
   "metadata": {},
   "outputs": [],
   "source": [
    "# Left Join on 'key' column\n",
    "\n",
    "merged_df_left = pd.merge(left_df, right_df, on='key', how='left')\n",
    "\n",
    "merged_df_left\n"
   ]
  },
  {
   "cell_type": "markdown",
   "metadata": {},
   "source": [
    "**Right Join**\n",
    "\n",
    "A **right join** keeps all rows from the right DataFrame and adds the corresponding rows from the left DataFrame.\n"
   ]
  },
  {
   "cell_type": "code",
   "execution_count": null,
   "metadata": {},
   "outputs": [],
   "source": [
    "merged_df_right = pd.merge(left_df, right_df, on='key', how='right')\n",
    "\n",
    "merged_df_right"
   ]
  },
  {
   "cell_type": "markdown",
   "metadata": {},
   "source": [
    "**Inner Join (Default)**\n",
    "\n",
    "By default, `merge()` performs an **inner join** (only keeps the rows where both DataFrames have matching keys)."
   ]
  },
  {
   "cell_type": "code",
   "execution_count": null,
   "metadata": {},
   "outputs": [],
   "source": [
    "# Inner Join on 'key' column\n",
    "\n",
    "merged_df_inner = pd.merge(left_df, right_df, on='key')\n",
    "\n",
    "merged_df_inner"
   ]
  },
  {
   "cell_type": "markdown",
   "metadata": {},
   "source": [
    "**Outer Join**\n",
    "\n",
    "An **outer join** keeps all rows from both DataFrames, filling missing matches with `NaN`.\n"
   ]
  },
  {
   "cell_type": "code",
   "execution_count": null,
   "metadata": {},
   "outputs": [],
   "source": [
    "# Outer Join on 'key' column\n",
    "\n",
    "merged_df_outer = pd.merge(left_df, right_df, on='key', how='outer')\n",
    "merged_df_outer\n"
   ]
  },
  {
   "cell_type": "markdown",
   "metadata": {},
   "source": [
    "**Cross Join**\n",
    "\n",
    "A **cross join** combines every row from the first DataFrame with every row from the second.\n"
   ]
  },
  {
   "cell_type": "code",
   "execution_count": null,
   "metadata": {},
   "outputs": [],
   "source": [
    "# Cross Join (no 'on' parameter is needed)\n",
    "\n",
    "merged_df_cross = pd.merge(left_df, right_df, how='cross')\n",
    "merged_df_cross\n"
   ]
  },
  {
   "cell_type": "markdown",
   "metadata": {},
   "source": [
    "**Using the `indicator` Parameter**\n",
    "\n",
    "The `indicator=True` argument helps identify the source of each row in the resulting DataFrame:\n"
   ]
  },
  {
   "cell_type": "code",
   "execution_count": null,
   "metadata": {},
   "outputs": [],
   "source": [
    "# Inner Join with indicator\n",
    "merged_df_with_indicator = pd.merge(left_df, right_df, on='key', how='outer', indicator=True)\n",
    "merged_df_with_indicator\n"
   ]
  },
  {
   "cell_type": "markdown",
   "metadata": {},
   "source": [
    "---\n",
    "\n",
    "## 4. Detailed Explanation of `join()`\n",
    "\n",
    "The `join()` function is used to join two DataFrames on their index. It’s most useful when working with indexed data.\n",
    "\n",
    "*Example*\n",
    "\n",
    "Let’s create two DataFrames with different data but matching indices.\n"
   ]
  },
  {
   "cell_type": "code",
   "execution_count": 29,
   "metadata": {},
   "outputs": [],
   "source": [
    "# Creating DataFrames with matching indices\n",
    "df1 = pd.DataFrame({\n",
    "    \"A\": [\"A0\", \"A1\", \"A2\", \"A3\"],\n",
    "    \"B\": [\"B0\", \"B1\", \"B2\", \"B3\"]\n",
    "}, index=[\"I0\", \"I1\", \"I2\", \"I3\"])\n",
    "\n",
    "df2 = pd.DataFrame({\n",
    "    \"C\": [\"C0\", \"C1\", \"C2\", \"C3\"],\n",
    "    \"D\": [\"D0\", \"D1\", \"D2\", \"D3\"]\n",
    "}, index=[\"I1\", \"I2\", \"I3\", \"I4\"])\n"
   ]
  },
  {
   "cell_type": "code",
   "execution_count": null,
   "metadata": {},
   "outputs": [],
   "source": [
    "df1"
   ]
  },
  {
   "cell_type": "code",
   "execution_count": null,
   "metadata": {},
   "outputs": [],
   "source": [
    "df2"
   ]
  },
  {
   "cell_type": "markdown",
   "metadata": {},
   "source": [
    "**Using `join()`**"
   ]
  },
  {
   "cell_type": "code",
   "execution_count": null,
   "metadata": {},
   "outputs": [],
   "source": [
    "# Joining on the index\n",
    "\n",
    "joined_df = df1.join(df2) # defualt is left join\n",
    "joined_df\n"
   ]
  },
  {
   "cell_type": "markdown",
   "metadata": {},
   "source": [
    "You can also control how the join behaves with the `how` parameter (similar to `merge()`):\n"
   ]
  },
  {
   "cell_type": "code",
   "execution_count": null,
   "metadata": {},
   "outputs": [],
   "source": [
    "# Left Join (default)\n",
    "joined_right = df1.join(df2, how='right')\n",
    "\n",
    "joined_right"
   ]
  },
  {
   "cell_type": "code",
   "execution_count": null,
   "metadata": {},
   "outputs": [],
   "source": [
    "# Outer Join\n",
    "joined_outer = df1.join(df2, how='outer')\n",
    "\n",
    "joined_outer"
   ]
  },
  {
   "cell_type": "code",
   "execution_count": null,
   "metadata": {},
   "outputs": [],
   "source": [
    "# Inner Join\n",
    "joined_inner = df1.join(df2, how='inner')\n",
    "\n",
    "joined_inner"
   ]
  },
  {
   "cell_type": "markdown",
   "metadata": {},
   "source": [
    "---\n",
    "\n",
    "## 5. Detailed Explanation of `concat()`\n",
    "\n",
    "The `concat()` function is used to concatenate DataFrames along a specific axis (either rows or columns).\n",
    "\n",
    "*Example*\n",
    "\n",
    "Let’s create two DataFrames to demonstrate concatenation.\n"
   ]
  },
  {
   "cell_type": "code",
   "execution_count": 41,
   "metadata": {},
   "outputs": [],
   "source": [
    "df1 = pd.DataFrame({\n",
    "    \"A\": [\"A0\", \"A1\", \"A2\"],\n",
    "    \"B\": [\"B0\", \"B1\", \"B2\"]\n",
    "})\n",
    "\n",
    "df2 = pd.DataFrame({\n",
    "    \"A\": [\"A3\", \"A4\", \"A5\"],\n",
    "    \"B\": [\"B3\", \"B4\", \"B5\"]\n",
    "})"
   ]
  },
  {
   "cell_type": "code",
   "execution_count": null,
   "metadata": {},
   "outputs": [],
   "source": [
    "df1"
   ]
  },
  {
   "cell_type": "code",
   "execution_count": null,
   "metadata": {},
   "outputs": [],
   "source": [
    "df2"
   ]
  },
  {
   "cell_type": "markdown",
   "metadata": {},
   "source": [
    "**Concatenating Along Rows (Default)**\n",
    "\n",
    "By default, `concat()` stacks DataFrames vertically (along rows).\n"
   ]
  },
  {
   "cell_type": "code",
   "execution_count": null,
   "metadata": {},
   "outputs": [],
   "source": [
    "# Concatenate along rows\n",
    "\n",
    "concat_rows = pd.concat([df1, df2])\n",
    "concat_rows\n"
   ]
  },
  {
   "cell_type": "markdown",
   "metadata": {},
   "source": [
    "**Concatenating Along Columns**\n",
    "\n",
    "To stack DataFrames side by side (along columns), set the `axis` parameter to `1`.\n"
   ]
  },
  {
   "cell_type": "code",
   "execution_count": null,
   "metadata": {},
   "outputs": [],
   "source": [
    "# Concatenate along columns\n",
    "\n",
    "concat_columns = pd.concat([df1, df2], axis=1)\n",
    "concat_columns\n"
   ]
  },
  {
   "cell_type": "markdown",
   "metadata": {},
   "source": [
    "Pandas Merge, Join, Concat examples documentation\n",
    "\n",
    "https://pandas.pydata.org/docs/user_guide/merging.html"
   ]
  },
  {
   "cell_type": "markdown",
   "metadata": {},
   "source": [
    "___\n",
    "\n",
    "## 6. Duplicated keys"
   ]
  },
  {
   "cell_type": "markdown",
   "metadata": {},
   "source": [
    "Let's see what happens if key's appear more than once in respective dataframes."
   ]
  },
  {
   "cell_type": "code",
   "execution_count": 63,
   "metadata": {},
   "outputs": [],
   "source": [
    "left_df = pd.DataFrame( \n",
    "                        {\n",
    "                        \"key\": [\"K0\", \"K1\", \"K2\", \"K3\", \"K4\"],\n",
    "                        \"A\": [\"A0\", \"A1\", \"A2\", \"A3\", \"A4\"],\n",
    "                        \"B\": [\"B0\", \"B1\", \"B2\", \"B3\", \"B4\"]\n",
    "                        }\n",
    "                      )\n",
    "\n",
    "right_df = pd.DataFrame(\n",
    "                            {\n",
    "                            \"key\": [\"K1\", \"K4\", \"K3\", \"K1\", \"K5\"],\n",
    "                            \"C\": [\"C1\", \"C2\", \"C3\", \"C4\", \"C5\"],\n",
    "                            \"D\": [\"D1\", \"D2\", \"D3\", \"D4\", \"D5\"],\n",
    "                            }\n",
    "                        )"
   ]
  },
  {
   "cell_type": "code",
   "execution_count": 64,
   "metadata": {},
   "outputs": [
    {
     "data": {
      "text/html": [
       "<div>\n",
       "<style scoped>\n",
       "    .dataframe tbody tr th:only-of-type {\n",
       "        vertical-align: middle;\n",
       "    }\n",
       "\n",
       "    .dataframe tbody tr th {\n",
       "        vertical-align: top;\n",
       "    }\n",
       "\n",
       "    .dataframe thead th {\n",
       "        text-align: right;\n",
       "    }\n",
       "</style>\n",
       "<table border=\"1\" class=\"dataframe\">\n",
       "  <thead>\n",
       "    <tr style=\"text-align: right;\">\n",
       "      <th></th>\n",
       "      <th>key</th>\n",
       "      <th>A</th>\n",
       "      <th>B</th>\n",
       "    </tr>\n",
       "  </thead>\n",
       "  <tbody>\n",
       "    <tr>\n",
       "      <th>0</th>\n",
       "      <td>K0</td>\n",
       "      <td>A0</td>\n",
       "      <td>B0</td>\n",
       "    </tr>\n",
       "    <tr>\n",
       "      <th>1</th>\n",
       "      <td>K1</td>\n",
       "      <td>A1</td>\n",
       "      <td>B1</td>\n",
       "    </tr>\n",
       "    <tr>\n",
       "      <th>2</th>\n",
       "      <td>K2</td>\n",
       "      <td>A2</td>\n",
       "      <td>B2</td>\n",
       "    </tr>\n",
       "    <tr>\n",
       "      <th>3</th>\n",
       "      <td>K3</td>\n",
       "      <td>A3</td>\n",
       "      <td>B3</td>\n",
       "    </tr>\n",
       "    <tr>\n",
       "      <th>4</th>\n",
       "      <td>K4</td>\n",
       "      <td>A4</td>\n",
       "      <td>B4</td>\n",
       "    </tr>\n",
       "  </tbody>\n",
       "</table>\n",
       "</div>"
      ],
      "text/plain": [
       "  key   A   B\n",
       "0  K0  A0  B0\n",
       "1  K1  A1  B1\n",
       "2  K2  A2  B2\n",
       "3  K3  A3  B3\n",
       "4  K4  A4  B4"
      ]
     },
     "execution_count": 64,
     "metadata": {},
     "output_type": "execute_result"
    }
   ],
   "source": [
    "left_df"
   ]
  },
  {
   "cell_type": "code",
   "execution_count": 65,
   "metadata": {},
   "outputs": [
    {
     "data": {
      "text/html": [
       "<div>\n",
       "<style scoped>\n",
       "    .dataframe tbody tr th:only-of-type {\n",
       "        vertical-align: middle;\n",
       "    }\n",
       "\n",
       "    .dataframe tbody tr th {\n",
       "        vertical-align: top;\n",
       "    }\n",
       "\n",
       "    .dataframe thead th {\n",
       "        text-align: right;\n",
       "    }\n",
       "</style>\n",
       "<table border=\"1\" class=\"dataframe\">\n",
       "  <thead>\n",
       "    <tr style=\"text-align: right;\">\n",
       "      <th></th>\n",
       "      <th>key</th>\n",
       "      <th>C</th>\n",
       "      <th>D</th>\n",
       "    </tr>\n",
       "  </thead>\n",
       "  <tbody>\n",
       "    <tr>\n",
       "      <th>0</th>\n",
       "      <td>K1</td>\n",
       "      <td>C1</td>\n",
       "      <td>D1</td>\n",
       "    </tr>\n",
       "    <tr>\n",
       "      <th>1</th>\n",
       "      <td>K4</td>\n",
       "      <td>C2</td>\n",
       "      <td>D2</td>\n",
       "    </tr>\n",
       "    <tr>\n",
       "      <th>2</th>\n",
       "      <td>K3</td>\n",
       "      <td>C3</td>\n",
       "      <td>D3</td>\n",
       "    </tr>\n",
       "    <tr>\n",
       "      <th>3</th>\n",
       "      <td>K1</td>\n",
       "      <td>C4</td>\n",
       "      <td>D4</td>\n",
       "    </tr>\n",
       "    <tr>\n",
       "      <th>4</th>\n",
       "      <td>K5</td>\n",
       "      <td>C5</td>\n",
       "      <td>D5</td>\n",
       "    </tr>\n",
       "  </tbody>\n",
       "</table>\n",
       "</div>"
      ],
      "text/plain": [
       "  key   C   D\n",
       "0  K1  C1  D1\n",
       "1  K4  C2  D2\n",
       "2  K3  C3  D3\n",
       "3  K1  C4  D4\n",
       "4  K5  C5  D5"
      ]
     },
     "execution_count": 65,
     "metadata": {},
     "output_type": "execute_result"
    }
   ],
   "source": [
    "right_df"
   ]
  },
  {
   "cell_type": "code",
   "execution_count": null,
   "metadata": {},
   "outputs": [],
   "source": [
    "pd.merge(left_df, right_df, on='key', how='left')"
   ]
  },
  {
   "cell_type": "markdown",
   "metadata": {},
   "source": [
    "**Mergin on keys with different names**\n",
    "\n",
    "Lastly, we'll showcase how to merge on keys with different names."
   ]
  },
  {
   "cell_type": "code",
   "execution_count": 58,
   "metadata": {},
   "outputs": [],
   "source": [
    "left_df = pd.DataFrame( \n",
    "            {\n",
    "                \"key\": [\"K0\", \"K1\", \"K2\", \"K3\", \"K4\"],\n",
    "                \"A\": [\"A0\", \"A1\", \"A2\", \"A3\", \"A4\"],\n",
    "                \"B\": [\"B0\", \"B1\", \"B2\", \"B3\", \"B4\"]\n",
    "            }\n",
    "                      )\n",
    "\n",
    "\n",
    "\n",
    "right_df = pd.DataFrame(\n",
    "            {\n",
    "                \"nyckel\": [\"K1\", \"K2\", \"K3\", \"K4\", \"K5\"],\n",
    "                \"C\": [\"C1\", \"C2\", \"C3\", \"C4\", \"C5\"],\n",
    "                \"D\": [\"D1\", \"D2\", \"D3\", \"D4\", \"D5\"],\n",
    "            }\n",
    "                        )"
   ]
  },
  {
   "cell_type": "code",
   "execution_count": null,
   "metadata": {},
   "outputs": [],
   "source": [
    "left_df"
   ]
  },
  {
   "cell_type": "code",
   "execution_count": null,
   "metadata": {},
   "outputs": [],
   "source": [
    "right_df"
   ]
  },
  {
   "cell_type": "code",
   "execution_count": null,
   "metadata": {},
   "outputs": [],
   "source": [
    "pd.merge(left_df, right_df, left_on='key', right_on='nyckel', how='inner')"
   ]
  },
  {
   "cell_type": "markdown",
   "metadata": {},
   "source": [
    "## SCRAPE WIKIPEDIA YE"
   ]
  },
  {
   "cell_type": "markdown",
   "metadata": {},
   "source": [
    "## probably need to:\n",
    "\n",
    "**conda install lxml**\n",
    "\n",
    "IN YOUR ENVIRONMENT!!!!"
   ]
  },
  {
   "cell_type": "code",
   "execution_count": 2,
   "metadata": {},
   "outputs": [
    {
     "data": {
      "text/plain": [
       "21"
      ]
     },
     "execution_count": 2,
     "metadata": {},
     "output_type": "execute_result"
    }
   ],
   "source": [
    "import pandas as pd\n",
    "swedish_demo = pd.read_html('https://sv.wikipedia.org/wiki/Sveriges_demografi')\n",
    "\n",
    "len(swedish_demo)\n"
   ]
  },
  {
   "cell_type": "code",
   "execution_count": 3,
   "metadata": {},
   "outputs": [
    {
     "data": {
      "text/plain": [
       "True"
      ]
     },
     "execution_count": 3,
     "metadata": {},
     "output_type": "execute_result"
    }
   ],
   "source": [
    "isinstance(swedish_demo, list)"
   ]
  },
  {
   "cell_type": "code",
   "execution_count": 4,
   "metadata": {},
   "outputs": [
    {
     "data": {
      "text/html": [
       "<div>\n",
       "<style scoped>\n",
       "    .dataframe tbody tr th:only-of-type {\n",
       "        vertical-align: middle;\n",
       "    }\n",
       "\n",
       "    .dataframe tbody tr th {\n",
       "        vertical-align: top;\n",
       "    }\n",
       "\n",
       "    .dataframe thead tr th {\n",
       "        text-align: left;\n",
       "    }\n",
       "</style>\n",
       "<table border=\"1\" class=\"dataframe\">\n",
       "  <thead>\n",
       "    <tr>\n",
       "      <th></th>\n",
       "      <th>Vid utgången av år</th>\n",
       "      <th>Folkmängd</th>\n",
       "      <th colspan=\"2\" halign=\"left\">Årlig tillväxt</th>\n",
       "    </tr>\n",
       "    <tr>\n",
       "      <th></th>\n",
       "      <th>Vid utgången av år</th>\n",
       "      <th>Folkmängd</th>\n",
       "      <th>Totalt</th>\n",
       "      <th>Promille</th>\n",
       "    </tr>\n",
       "  </thead>\n",
       "  <tbody>\n",
       "    <tr>\n",
       "      <th>0</th>\n",
       "      <td>1570</td>\n",
       "      <td>900 000</td>\n",
       "      <td>—</td>\n",
       "      <td>—</td>\n",
       "    </tr>\n",
       "    <tr>\n",
       "      <th>1</th>\n",
       "      <td>1650</td>\n",
       "      <td>1 225 000</td>\n",
       "      <td>4 063</td>\n",
       "      <td>386</td>\n",
       "    </tr>\n",
       "    <tr>\n",
       "      <th>2</th>\n",
       "      <td>1700</td>\n",
       "      <td>1 485 000</td>\n",
       "      <td>5 200</td>\n",
       "      <td>386</td>\n",
       "    </tr>\n",
       "    <tr>\n",
       "      <th>3</th>\n",
       "      <td>1720</td>\n",
       "      <td>1 350 000</td>\n",
       "      <td>−6 750</td>\n",
       "      <td>−4,75</td>\n",
       "    </tr>\n",
       "    <tr>\n",
       "      <th>4</th>\n",
       "      <td>1755</td>\n",
       "      <td>1 878 000</td>\n",
       "      <td>15 086</td>\n",
       "      <td>948</td>\n",
       "    </tr>\n",
       "    <tr>\n",
       "      <th>5</th>\n",
       "      <td>1815</td>\n",
       "      <td>2 465 000</td>\n",
       "      <td>9 783</td>\n",
       "      <td>454</td>\n",
       "    </tr>\n",
       "    <tr>\n",
       "      <th>6</th>\n",
       "      <td>1865</td>\n",
       "      <td>4 099 000</td>\n",
       "      <td>32 680</td>\n",
       "      <td>1022</td>\n",
       "    </tr>\n",
       "    <tr>\n",
       "      <th>7</th>\n",
       "      <td>1900</td>\n",
       "      <td>5 140 000</td>\n",
       "      <td>29 743</td>\n",
       "      <td>648</td>\n",
       "    </tr>\n",
       "    <tr>\n",
       "      <th>8</th>\n",
       "      <td>2000</td>\n",
       "      <td>8 861 000</td>\n",
       "      <td>NaN</td>\n",
       "      <td>NaN</td>\n",
       "    </tr>\n",
       "    <tr>\n",
       "      <th>9</th>\n",
       "      <td>2020</td>\n",
       "      <td>10 379 000</td>\n",
       "      <td>NaN</td>\n",
       "      <td>NaN</td>\n",
       "    </tr>\n",
       "    <tr>\n",
       "      <th>10</th>\n",
       "      <td>Datan avser folkmängden inom Sveriges nuvarand...</td>\n",
       "      <td>Datan avser folkmängden inom Sveriges nuvarand...</td>\n",
       "      <td>Datan avser folkmängden inom Sveriges nuvarand...</td>\n",
       "      <td>Datan avser folkmängden inom Sveriges nuvarand...</td>\n",
       "    </tr>\n",
       "  </tbody>\n",
       "</table>\n",
       "</div>"
      ],
      "text/plain": [
       "                                   Vid utgången av år  \\\n",
       "                                   Vid utgången av år   \n",
       "0                                                1570   \n",
       "1                                                1650   \n",
       "2                                                1700   \n",
       "3                                                1720   \n",
       "4                                                1755   \n",
       "5                                                1815   \n",
       "6                                                1865   \n",
       "7                                                1900   \n",
       "8                                                2000   \n",
       "9                                                2020   \n",
       "10  Datan avser folkmängden inom Sveriges nuvarand...   \n",
       "\n",
       "                                            Folkmängd  \\\n",
       "                                            Folkmängd   \n",
       "0                                             900 000   \n",
       "1                                           1 225 000   \n",
       "2                                           1 485 000   \n",
       "3                                           1 350 000   \n",
       "4                                           1 878 000   \n",
       "5                                           2 465 000   \n",
       "6                                           4 099 000   \n",
       "7                                           5 140 000   \n",
       "8                                           8 861 000   \n",
       "9                                          10 379 000   \n",
       "10  Datan avser folkmängden inom Sveriges nuvarand...   \n",
       "\n",
       "                                       Årlig tillväxt  \\\n",
       "                                               Totalt   \n",
       "0                                                   —   \n",
       "1                                               4 063   \n",
       "2                                               5 200   \n",
       "3                                              −6 750   \n",
       "4                                              15 086   \n",
       "5                                               9 783   \n",
       "6                                              32 680   \n",
       "7                                              29 743   \n",
       "8                                                 NaN   \n",
       "9                                                 NaN   \n",
       "10  Datan avser folkmängden inom Sveriges nuvarand...   \n",
       "\n",
       "                                                       \n",
       "                                             Promille  \n",
       "0                                                   —  \n",
       "1                                                 386  \n",
       "2                                                 386  \n",
       "3                                               −4,75  \n",
       "4                                                 948  \n",
       "5                                                 454  \n",
       "6                                                1022  \n",
       "7                                                 648  \n",
       "8                                                 NaN  \n",
       "9                                                 NaN  \n",
       "10  Datan avser folkmängden inom Sveriges nuvarand...  "
      ]
     },
     "execution_count": 4,
     "metadata": {},
     "output_type": "execute_result"
    }
   ],
   "source": [
    "swedish_demo[1]"
   ]
  },
  {
   "cell_type": "code",
   "execution_count": 5,
   "metadata": {},
   "outputs": [
    {
     "data": {
      "text/plain": [
       "0                                                     —\n",
       "1                                                   386\n",
       "2                                                   386\n",
       "3                                                 −4,75\n",
       "4                                                   948\n",
       "5                                                   454\n",
       "6                                                  1022\n",
       "7                                                   648\n",
       "8                                                   NaN\n",
       "9                                                   NaN\n",
       "10    Datan avser folkmängden inom Sveriges nuvarand...\n",
       "Name: Promille, dtype: object"
      ]
     },
     "execution_count": 5,
     "metadata": {},
     "output_type": "execute_result"
    }
   ],
   "source": [
    "swedish_demo[1]['Årlig tillväxt']['Promille']"
   ]
  },
  {
   "cell_type": "code",
   "execution_count": 6,
   "metadata": {},
   "outputs": [],
   "source": [
    "min_df = swedish_demo[1]"
   ]
  },
  {
   "cell_type": "code",
   "execution_count": null,
   "metadata": {},
   "outputs": [],
   "source": [
    "min_df"
   ]
  },
  {
   "cell_type": "code",
   "execution_count": null,
   "metadata": {},
   "outputs": [],
   "source": [
    "swedish_demo[1].columns = swedish_demo[1].columns.droplevel(level=0)"
   ]
  },
  {
   "cell_type": "code",
   "execution_count": null,
   "metadata": {},
   "outputs": [],
   "source": [
    "swedish_demo[1]"
   ]
  },
  {
   "cell_type": "code",
   "execution_count": null,
   "metadata": {},
   "outputs": [],
   "source": [
    "swedish_demo[1].columns.droplevel(level=0)"
   ]
  },
  {
   "cell_type": "code",
   "execution_count": null,
   "metadata": {},
   "outputs": [],
   "source": []
  }
 ],
 "metadata": {
  "kernelspec": {
   "display_name": "data1",
   "language": "python",
   "name": "python3"
  },
  "language_info": {
   "codemirror_mode": {
    "name": "ipython",
    "version": 3
   },
   "file_extension": ".py",
   "mimetype": "text/x-python",
   "name": "python",
   "nbconvert_exporter": "python",
   "pygments_lexer": "ipython3",
   "version": "3.12.7"
  }
 },
 "nbformat": 4,
 "nbformat_minor": 2
}
