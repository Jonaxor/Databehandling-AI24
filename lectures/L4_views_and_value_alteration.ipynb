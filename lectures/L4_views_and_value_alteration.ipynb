{
 "cells": [
  {
   "cell_type": "markdown",
   "metadata": {},
   "source": [
    "# Views, Copies, and Value Alteration in Pandas DataFrames\n",
    "\n",
    "In this lesson, we will explore how to effectively alter values in a Pandas DataFrame, understand the difference between *views* and *copies*, \n",
    "\n",
    "and learn when and why to use `.copy()` to avoid unintended consequences.\n",
    "\n",
    "---"
   ]
  },
  {
   "cell_type": "markdown",
   "metadata": {},
   "source": [
    "**Outline**\n",
    "1. Introduction to Value Alteration in Pandas\n",
    "2. Using Broadcasting for Column-Wide Alterations\n",
    "3. Altering Specific Values with `.loc[]` and `.iloc[]`\n",
    "4. Understanding Views in Pandas\n",
    "5. The solution: use `.copy()`\n",
    "6. Best Practices for Using Views, Copies, and Alterations\n",
    "\n",
    "---"
   ]
  },
  {
   "cell_type": "markdown",
   "metadata": {},
   "source": [
    "## 1. Introduction to Value Alteration in Pandas\n",
    "\n",
    "When working with data in Pandas, modifying values in a DataFrame is common and often essential for data cleaning, transformation, or analysis. Generally, altering values in a DataFrame is straightforward, and Pandas provides several ways to make these changes effectively.\n",
    "\n",
    "We migh need to alter values for various reasons, such as:\n",
    "\n",
    "\n",
    "- **Data Cleaning**: Fix or replace invalid or missing values.\n",
    "- **Data Transformation**: Modify data to prepare it for analysis, e.g., converting units or applying calculations.\n",
    "- **Conditional Adjustments**: Modify subsets based on specific criteria, such as age ranges or scores.\n",
    "\n",
    "To accomplish these goals, we can:\n",
    "1. Use **broadcasting** for column-wide changes.\n",
    "2. Use **`.loc[]`** and **`.iloc[]`** for more specific adjustments.\n",
    "\n",
    "Let's explore these methods in detail.\n"
   ]
  },
  {
   "cell_type": "code",
   "execution_count": null,
   "metadata": {},
   "outputs": [],
   "source": [
    "import pandas as pd\n",
    "\n",
    "# Create a sample DataFrame\n",
    "data = {'Name': ['Alice', 'Bob', 'Charlie', 'David', 'Eve'],\n",
    "        'Age': [22, 27, 45, 32, 39],\n",
    "        'Score': [60, 92, 78, 90, 88]}\n",
    "\n",
    "df = pd.DataFrame(data)\n",
    "df"
   ]
  },
  {
   "cell_type": "markdown",
   "metadata": {},
   "source": [
    "____\n",
    "\n",
    "## 2. Using Broadcasting for Column-Wide Alterations \n",
    "\n",
    "**Broadcasting** is a simple and efficient way to apply a single value or operation across an entire column in a DataFrame. \n",
    "\n",
    "To illustrate, let’s apply broadcasting to set all values in the `Score` column to `100`:\n",
    "\n"
   ]
  },
  {
   "cell_type": "code",
   "execution_count": null,
   "metadata": {},
   "outputs": [],
   "source": [
    "df['Score'] = 100 # Broadcasting to set all alues in the 'Score' column to 100\n",
    "\n",
    "df"
   ]
  },
  {
   "cell_type": "code",
   "execution_count": null,
   "metadata": {},
   "outputs": [],
   "source": [
    "df['(Age*Score)/2'] = df['Age'] * df['Score']\n",
    "\n",
    "df['(Age*Score)/2'] = (df['Age'] * df['Score'])/20\n",
    "\n",
    "df"
   ]
  },
  {
   "cell_type": "code",
   "execution_count": null,
   "metadata": {},
   "outputs": [],
   "source": [
    "df['Batman'] = 'Robin'\n",
    "\n",
    "df"
   ]
  },
  {
   "cell_type": "markdown",
   "metadata": {},
   "source": [
    "That's pretty much it with broadcasting.\n",
    "\n",
    "Before proceeding, let's revert back the column 'Score' to the original values."
   ]
  },
  {
   "cell_type": "code",
   "execution_count": null,
   "metadata": {},
   "outputs": [],
   "source": [
    "df['Score'] = [60, 92, 78, 90, 88]\n",
    "\n",
    "df"
   ]
  },
  {
   "cell_type": "markdown",
   "metadata": {},
   "source": [
    "---\n",
    "\n",
    "## 3. Altering Specific Values with `.loc[]` and `.iloc[]`\n",
    "\n",
    "For more fine-tuned control, we use `.loc[]` and `.iloc[]` to alter specific parts of the DataFrame. \n",
    "\n",
    "This approach is particularly helpful for making conditional or targeted changes.\n",
    "\n",
    "Suppose we want to update the `Score` for people older than 30:"
   ]
  },
  {
   "cell_type": "code",
   "execution_count": null,
   "metadata": {},
   "outputs": [],
   "source": [
    "age_over_30_filter = df['Age'] > 30\n",
    "\n",
    "age_over_30_filter"
   ]
  },
  {
   "cell_type": "code",
   "execution_count": null,
   "metadata": {},
   "outputs": [],
   "source": [
    "df.loc[age_over_30_filter, 'Score'] = 99 # Set a new value for the 'Score' column for people older than 30\n",
    "\n",
    "df"
   ]
  },
  {
   "cell_type": "markdown",
   "metadata": {},
   "source": [
    "Good, let's now revert back our values"
   ]
  },
  {
   "cell_type": "code",
   "execution_count": null,
   "metadata": {},
   "outputs": [],
   "source": [
    "df.loc[age_over_30_filter, 'Score'] = [78, 90, 88] # Revert back the original values for the 'Score' column for people older than 30\n",
    "\n",
    "df"
   ]
  },
  {
   "cell_type": "markdown",
   "metadata": {},
   "source": [
    "____\n",
    "\n"
   ]
  },
  {
   "cell_type": "markdown",
   "metadata": {},
   "source": [
    "## 4. Understanding Views in Pandas\n",
    "\n",
    "**What is a View?**\n",
    "\n",
    "A *view* in Pandas is a subset of a DataFrame that references the original data. \n",
    "\n",
    "Views are useful for reading and analyzing data efficiently because they don’t create independent copies in memory. \n",
    "\n",
    "Instead, they offer a *view* into a subset of the original DataFrame, which can be more memory-friendly, especially for large datasets.\n",
    "\n",
    "example: \n",
    "\n",
    "Let’s create a view of `data_df` that includes only rows where `Age > 30`."
   ]
  },
  {
   "cell_type": "code",
   "execution_count": null,
   "metadata": {},
   "outputs": [],
   "source": [
    "older_people_df = df[age_over_30_filter]\n",
    "\n",
    "older_people_df # this now looks like a new dataframe, and it is, but its actually also a view!\n",
    "                # since it was created from a subset from a dataframe."
   ]
  },
  {
   "cell_type": "markdown",
   "metadata": {},
   "source": [
    "Views are perfect for exploratory data analysis, offering insights into specific parts of a larger dataset and also convenient to work with e.g., when you want to plot the contents of this specific subset. "
   ]
  },
  {
   "cell_type": "markdown",
   "metadata": {},
   "source": [
    "**Note**: Views are best for exploratory analysis. However, modifying data directly in a view is **not** recommended, since it can cause issues.\n",
    "\n",
    "Example: "
   ]
  },
  {
   "cell_type": "code",
   "execution_count": null,
   "metadata": {},
   "outputs": [],
   "source": [
    "older_people_df['Age'] = 100"
   ]
  },
  {
   "cell_type": "code",
   "execution_count": null,
   "metadata": {},
   "outputs": [],
   "source": [
    "older_people_df"
   ]
  },
  {
   "cell_type": "markdown",
   "metadata": {},
   "source": [
    "---\n",
    "\n",
    "## 5. The solution: use `.copy()`\n",
    "\n",
    "**What is a Copy?**\n",
    "\n",
    "A *copy* is an independent object with its own memory, entirely separate from the original DataFrame. \n",
    "\n",
    "Using .copy(), we can this created independent dataframes that can easily be altered without issues or conflicts.\n",
    "\n",
    "Example:\n"
   ]
  },
  {
   "cell_type": "code",
   "execution_count": null,
   "metadata": {},
   "outputs": [],
   "source": [
    "df"
   ]
  },
  {
   "cell_type": "code",
   "execution_count": null,
   "metadata": {},
   "outputs": [],
   "source": [
    "great_scores_filter = df['Score'] > 80\n",
    "\n",
    "great_scores_df = df[great_scores_filter].copy().reset_index(drop=True)\n",
    "\n",
    "great_scores_df # this is now a copy of the dataframe, it's totally independent and can be altered without issues"
   ]
  },
  {
   "cell_type": "code",
   "execution_count": null,
   "metadata": {},
   "outputs": [],
   "source": [
    "great_scores_df['Batman'] = 'Joker'\n",
    "\n",
    "great_scores_df"
   ]
  },
  {
   "cell_type": "code",
   "execution_count": null,
   "metadata": {},
   "outputs": [],
   "source": [
    "great_scores_df.loc[2, 'Score'] = 9001\n",
    "\n",
    "great_scores_df"
   ]
  },
  {
   "cell_type": "markdown",
   "metadata": {},
   "source": [
    "____\n",
    "\n",
    "## 6. Best Practices for Using Views, Copies, and Alterations\n",
    "\n",
    "**Key Recommendations:**\n",
    "\n",
    "1. **Use Broadcasting for Uniform Changes**: When making broad, column-wide or row-wide alterations.\n",
    "2. **Use `.loc[]` and `.iloc[]` for Precision**: Ideal for specific, conditional modifications.\n",
    "3. **Use Views for Exploratory Data Analysis**: Views are more memory-efficient for read-only tasks.\n",
    "4. **Use `.copy()` for Independent Modifications**: Ensures that changes are isolated, preventing accidental modification of the original data."
   ]
  }
 ],
 "metadata": {
  "kernelspec": {
   "display_name": "databehandling",
   "language": "python",
   "name": "python3"
  },
  "language_info": {
   "codemirror_mode": {
    "name": "ipython",
    "version": 3
   },
   "file_extension": ".py",
   "mimetype": "text/x-python",
   "name": "python",
   "nbconvert_exporter": "python",
   "pygments_lexer": "ipython3",
   "version": "3.12.7"
  }
 },
 "nbformat": 4,
 "nbformat_minor": 2
}
