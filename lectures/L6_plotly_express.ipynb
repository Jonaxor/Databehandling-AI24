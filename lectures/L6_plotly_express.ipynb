{
 "cells": [
  {
   "cell_type": "markdown",
   "metadata": {},
   "source": [
    "# Introduction to Plotly Express\n",
    "\n",
    "\n",
    "**Plotly Express** is the high-level interface to Plotly, designed for quick and easy data visualization. It allows you to create interactive, customizable plots with minimal code.\n",
    "\n",
    "**Key topics**\n",
    "\n",
    "1. What is Plotly Express?\n",
    "2. Working with the Gapminder Dataset\n",
    "3. Core Plotly Express Plot Types\n",
    "   - Scatter Plots\n",
    "   - Line Plots\n",
    "   - Bar Charts\n",
    "   - Bubble Charts\n",
    "   - Faceted Plots\n",
    "4. Customizing Plots\n",
    "5. Interactivity in Plotly Express\n"
   ]
  },
  {
   "cell_type": "markdown",
   "metadata": {},
   "source": [
    "____"
   ]
  },
  {
   "cell_type": "markdown",
   "metadata": {},
   "source": [
    "# 1. What is Plotly Express?\n",
    "\n",
    "**Plotly Express** simplifies the creation of interactive visualizations. It’s:\n",
    "- **Easy to use**: Generate complex plots with a few lines of code.\n",
    "- **Interactive by default**: Zoom, pan, and hover without extra effort.\n",
    "- **Pandas-integrated**: It works directly with Pandas DataFrames, making it great for handling tabular data.\n"
   ]
  },
  {
   "cell_type": "markdown",
   "metadata": {},
   "source": [
    "___"
   ]
  },
  {
   "cell_type": "markdown",
   "metadata": {},
   "source": [
    "# 2. Working with the Gapminder Dataset\n",
    "\n",
    "The Gapminder dataset contains country-level data on life expectancy, population, and GDP per capita over time. This dataset is a great example to explore various types of plots.\n"
   ]
  },
  {
   "cell_type": "code",
   "execution_count": null,
   "metadata": {},
   "outputs": [],
   "source": [
    "import pandas as pd\n",
    "import plotly.express as px\n",
    "\n",
    "# load the built-in Gapminder dataset\n",
    "gapminder_df = px.data.gapminder()\n",
    "\n",
    "# Display the first few rows of the dataset\n",
    "gapminder_df.head(20)\n"
   ]
  },
  {
   "cell_type": "code",
   "execution_count": null,
   "metadata": {},
   "outputs": [],
   "source": [
    "gapminder_df.info()"
   ]
  },
  {
   "cell_type": "code",
   "execution_count": null,
   "metadata": {},
   "outputs": [],
   "source": [
    "# seperate out the data for Sweden and store in it's own dataframe\n",
    "# we use .reset_index(drop=True) to reset the index of the new dataframe\n",
    "\n",
    "sweden_df = gapminder_df[gapminder_df['country'] == 'Sweden'].reset_index(drop=True)\n",
    "\n",
    "sweden_df"
   ]
  },
  {
   "cell_type": "markdown",
   "metadata": {},
   "source": [
    "____"
   ]
  },
  {
   "cell_type": "markdown",
   "metadata": {},
   "source": [
    "# 3. Core Plotly Express Plot Types\n",
    "\n",
    "**Scatter Plots**\n",
    "\n",
    "Scatter plots are used to visualize the relationship between two continuous variables.\n"
   ]
  },
  {
   "cell_type": "code",
   "execution_count": null,
   "metadata": {},
   "outputs": [],
   "source": [
    "# Basic scatter plot of GDP per capita vs Life Expectancy\n",
    "\n",
    "fig = px.scatter(gapminder_df, x=\"gdpPercap\", y=\"lifeExp\", title=\"GDP per Capita vs Life Expectancy\")\n",
    "fig.show()\n"
   ]
  },
  {
   "cell_type": "code",
   "execution_count": null,
   "metadata": {},
   "outputs": [],
   "source": [
    "fig = px.scatter(sweden_df, x=\"gdpPercap\", y=\"lifeExp\", title=\"GDP per Capita vs Life Expectancy\")\n",
    "fig.show()\n"
   ]
  },
  {
   "cell_type": "markdown",
   "metadata": {},
   "source": [
    "### Adding color and size for categorical and continuous variables\n",
    "\n",
    "We can enhance the scatter plot by adding color to differentiate continents and adjust marker size based on population.\n",
    "\n",
    "**Note** that this adds several new dimensions to our visualisations!\n"
   ]
  },
  {
   "cell_type": "code",
   "execution_count": null,
   "metadata": {},
   "outputs": [],
   "source": [
    "# Code: Scatter plot with color (continent) and size (population)\n",
    "fig = px.scatter(gapminder_df, x=\"gdpPercap\", y=\"lifeExp\", color=\"continent\", \n",
    "                 size=\"pop\", hover_name=\"country\", log_x=True, \n",
    "                 title=\"GDP per Capita vs Life Expectancy (Bubble Chart)\")\n",
    "fig.show()\n"
   ]
  },
  {
   "cell_type": "markdown",
   "metadata": {},
   "source": [
    "**Line Plots**\n",
    "\n",
    "Line plots are ideal for visualizing trends over time. Let's visualize life expectancy over the years for a single country.\n"
   ]
  },
  {
   "cell_type": "code",
   "execution_count": null,
   "metadata": {},
   "outputs": [],
   "source": [
    "# Line plot of life expectancy over time for Sweden\n",
    "\n",
    "fig = px.line(sweden_df, x=\"year\", y=\"lifeExp\", \n",
    "              title=\"Life Expectancy Over Time in Sweden\")\n",
    "fig.show()\n"
   ]
  },
  {
   "cell_type": "markdown",
   "metadata": {},
   "source": [
    "**Bar Charts**\n",
    "\n",
    "Bar charts help compare data across categories. Here, we'll look at the average life expectancy by continent.\n"
   ]
  },
  {
   "cell_type": "code",
   "execution_count": null,
   "metadata": {},
   "outputs": [],
   "source": [
    "# Bar chart showing average life expectancy by continent\n",
    "\n",
    "fig = px.bar(gapminder_df, x=\"continent\", y=\"lifeExp\", color=\"lifeExp\", \n",
    "             title=\"Average Life Expectancy by Continent\",\n",
    "             labels={\"lifeExp\": \"Life Expectancy\"})\n",
    "fig.show()\n"
   ]
  },
  {
   "cell_type": "code",
   "execution_count": 23,
   "metadata": {},
   "outputs": [],
   "source": [
    "nordic_countries_filter = gapminder_df['country'].isin(['Sweden', 'Norway', \n",
    "                                                       'Denmark', 'Finland','Iceland'])\n",
    "\n",
    "nordic_df = gapminder_df[nordic_countries_filter].reset_index(drop=True)"
   ]
  },
  {
   "cell_type": "code",
   "execution_count": null,
   "metadata": {},
   "outputs": [],
   "source": [
    "fig = px.bar(nordic_df, x=\"country\", y=\"lifeExp\", color=\"lifeExp\", \n",
    "             title=\"Average Life Expectancy by Continent\",\n",
    "             labels={\"lifeExp\": \"Life Expectancy\"})\n",
    "fig.show()"
   ]
  },
  {
   "cell_type": "markdown",
   "metadata": {},
   "source": [
    "**Stacked Bar Chart**\n",
    "\n",
    "You can also create a grouped or stacked bar chart to see the trend of life expectancy by continent over time.\n"
   ]
  },
  {
   "cell_type": "code",
   "execution_count": null,
   "metadata": {},
   "outputs": [],
   "source": [
    "# Grouped bar chart of life expectancy by continent over time\n",
    "\n",
    "fig = px.bar(nordic_df, x=\"year\", y=\"lifeExp\", color=\"country\", barmode=\"group\",\n",
    "             title=\"Life Expectancy by Continent Over Time\")\n",
    "fig.show()\n"
   ]
  },
  {
   "cell_type": "markdown",
   "metadata": {},
   "source": [
    "**Bubble Charts**\n",
    "\n",
    "Bubble charts are an extension of scatter plots where the size of the marker represents a third variable, such as population.\n"
   ]
  },
  {
   "cell_type": "code",
   "execution_count": null,
   "metadata": {},
   "outputs": [],
   "source": [
    "# Bubble chart with GDP per capita, life expectancy, and population size\n",
    "fig = px.scatter(nordic_df, x=\"gdpPercap\", y=\"lifeExp\", size='pop', color=\"country\", \n",
    "                 hover_name=\"country\", log_x=True, size_max=60, \n",
    "                 title=\"GDP per Capita vs Life Expectancy (Bubble Chart)\")\n",
    "fig.show()\n"
   ]
  },
  {
   "cell_type": "markdown",
   "metadata": {},
   "source": [
    "**Faceted Plots**\n",
    "\n",
    "Faceted plots allow you to break down the data into smaller plots based on categories like continent. This helps in comparing trends across subgroups.\n"
   ]
  },
  {
   "cell_type": "code",
   "execution_count": null,
   "metadata": {},
   "outputs": [],
   "source": [
    "# Faceted scatter plot by continent\n",
    "\n",
    "fig = px.scatter(gapminder_df, x=\"gdpPercap\", y=\"lifeExp\", color=\"continent\", \n",
    "                 size=\"pop\", facet_col=\"continent\", \n",
    "                 title=\"GDP per Capita vs Life Expectancy (Faceted by Continent)\",\n",
    "                 log_x=True)\n",
    "fig.show()\n"
   ]
  },
  {
   "cell_type": "code",
   "execution_count": null,
   "metadata": {},
   "outputs": [],
   "source": [
    "fig = px.scatter(nordic_df, x=\"gdpPercap\", y=\"lifeExp\", color=\"country\", \n",
    "                 size=\"pop\", facet_col=\"country\", \n",
    "                 title=\"GDP per Capita vs Life Expectancy (Faceted by Continent)\")\n",
    "fig.show()\n"
   ]
  },
  {
   "cell_type": "markdown",
   "metadata": {},
   "source": [
    "___\n",
    "\n",
    "## 4. Customizing Plotly Express Plots\n",
    "\n",
    "Plotly Express allows for easy customization of titles, axis labels, colors, and more. Let’s look at some customization options.\n"
   ]
  },
  {
   "cell_type": "code",
   "execution_count": null,
   "metadata": {},
   "outputs": [],
   "source": [
    "# Customizing titles and axis labels\n",
    "fig = px.scatter(gapminder_df, x=\"gdpPercap\", y=\"lifeExp\", color=\"country\",\n",
    "                 title=\"Custom Title: GDP per Capita vs Life Expectancy\",\n",
    "                 labels={\"gdpPercap\": \"GDP per Capita\", \"lifeExp\": \"Life Expectancy\"}, log_x=True)\n",
    "fig.show()"
   ]
  },
  {
   "cell_type": "markdown",
   "metadata": {},
   "source": [
    "**Changing Color Scales**\n",
    "\n",
    "You can modify the color scale to enhance visual representation.\n"
   ]
  },
  {
   "cell_type": "code",
   "execution_count": null,
   "metadata": {},
   "outputs": [],
   "source": [
    "# Using a different color scale (Viridis)\n",
    "\n",
    "fig = px.scatter(gapminder_df, x=\"gdpPercap\", y=\"lifeExp\", color=\"lifeExp\", \n",
    "                 title=\"Life Expectancy by GDP per Capita\", \n",
    "                 color_continuous_scale=\"Viridis\", log_x=True)\n",
    "fig.show()\n"
   ]
  },
  {
   "cell_type": "markdown",
   "metadata": {},
   "source": [
    "**Adjusting marker size and opacity**\n",
    "\n",
    "You can control marker size and transparency to make dense plots easier to read.\n"
   ]
  },
  {
   "cell_type": "code",
   "execution_count": null,
   "metadata": {},
   "outputs": [],
   "source": [
    "# Adjusting marker size and opacity\n",
    "\n",
    "fig = px.scatter(gapminder_df, x=\"gdpPercap\", y=\"lifeExp\", color=\"continent\", \n",
    "                 size=\"pop\", size_max=30, opacity=0.5, log_x=True, \n",
    "                 title=\"Adjusted Marker Size and Opacity\")\n",
    "fig.show()\n"
   ]
  },
  {
   "cell_type": "markdown",
   "metadata": {},
   "source": [
    "____"
   ]
  },
  {
   "cell_type": "markdown",
   "metadata": {},
   "source": [
    "## 5. Interactivity in Plotly Express\n",
    "\n",
    "One of the major advantages of Plotly Express is the built-in interactivity.\n"
   ]
  },
  {
   "cell_type": "code",
   "execution_count": null,
   "metadata": {},
   "outputs": [],
   "source": [
    "#Adding custom hover data\n",
    "\n",
    "fig = px.scatter(gapminder_df, x=\"gdpPercap\", y=\"lifeExp\", color=\"continent\", \n",
    "                 size=\"pop\", hover_data=[\"country\", \"year\"], \n",
    "                 title=\"Customized Hover Information\")\n",
    "fig.show()\n"
   ]
  },
  {
   "cell_type": "markdown",
   "metadata": {},
   "source": [
    "**Combining Facets and Animations**\n",
    "\n",
    "You can combine faceting with animations to create multi-dimensional visualizations.\n"
   ]
  },
  {
   "cell_type": "code",
   "execution_count": null,
   "metadata": {},
   "outputs": [],
   "source": [
    "# Code: Faceted scatter plot with animation\n",
    "fig = px.scatter(gapminder_df, x=\"gdpPercap\", y=\"lifeExp\", color=\"country\", \n",
    "                 size=\"pop\", hover_name=\"country\", log_x=True, \n",
    "                 animation_frame=\"year\", animation_group=\"country\", \n",
    "                 facet_col=\"continent\", title=\"Faceted and Animated Plot\")\n",
    "fig.show()\n"
   ]
  },
  {
   "cell_type": "code",
   "execution_count": 2,
   "metadata": {},
   "outputs": [],
   "source": [
    "gapminder_df = px.data.gapminder()"
   ]
  },
  {
   "cell_type": "code",
   "execution_count": 3,
   "metadata": {},
   "outputs": [],
   "source": [
    "# OBS, notera .isin metoden som här används för att skapa ett filter\n",
    "# detta filter sätter True på alla rader i gapminder_df där kolumnen country\n",
    "# antar ett nordiskt land\n",
    "\n",
    "\n",
    "nordic_countries_filter = gapminder_df['country'].isin(['Sweden', 'Norway', \n",
    "                                                       'Denmark', 'Finland','Iceland'])\n",
    "\n",
    "nordic_df = gapminder_df[nordic_countries_filter].reset_index(drop=True)\n",
    "\n",
    "\n",
    "\n",
    "sweden_filter = gapminder_df['country'] == 'Sweden'\n",
    "\n",
    "sweden_df = gapminder_df[sweden_filter].reset_index(drop=True)"
   ]
  },
  {
   "cell_type": "markdown",
   "metadata": {},
   "source": [
    "# Bar chart"
   ]
  },
  {
   "cell_type": "code",
   "execution_count": null,
   "metadata": {},
   "outputs": [],
   "source": [
    "sweden_df['year'].max()"
   ]
  },
  {
   "cell_type": "code",
   "execution_count": null,
   "metadata": {},
   "outputs": [],
   "source": [
    "my_title = f\"Population in Sweden between year {sweden_df['year'].min()} and {sweden_df['year'].max()}\"\n",
    "\n",
    "px.bar(sweden_df, x='year', y='pop', range_y=[0, 10e6], title = my_title, labels={'year': 'Year', 'pop': 'Population'})"
   ]
  },
  {
   "cell_type": "markdown",
   "metadata": {},
   "source": [
    "# Line chart"
   ]
  },
  {
   "cell_type": "code",
   "execution_count": null,
   "metadata": {},
   "outputs": [],
   "source": [
    "px.line(sweden_df, x='year', y='gdpPercap', range_y=[0, 40000])"
   ]
  },
  {
   "cell_type": "markdown",
   "metadata": {},
   "source": [
    "# Hover settings"
   ]
  },
  {
   "cell_type": "code",
   "execution_count": null,
   "metadata": {},
   "outputs": [],
   "source": [
    "fig = px.line(nordic_df, x='year', y='gdpPercap', color='country')\n",
    "\n",
    "fig.update_layout(hovermode='x')\n",
    "fig.update_xaxes(showspikes=True, \n",
    "                 spikedash='solid', \n",
    "                 spikecolor='green', \n",
    "                 spikemode='across', \n",
    "                 spikesnap='cursor')\n",
    "\n",
    "fig.show()"
   ]
  },
  {
   "cell_type": "markdown",
   "metadata": {},
   "source": []
  },
  {
   "cell_type": "markdown",
   "metadata": {},
   "source": [
    "# Pie chart"
   ]
  },
  {
   "cell_type": "code",
   "execution_count": null,
   "metadata": {},
   "outputs": [],
   "source": [
    "nordic_2007_df = nordic_df[nordic_df['year'] == 2007]\n",
    "nordic_2007_df"
   ]
  },
  {
   "cell_type": "code",
   "execution_count": null,
   "metadata": {},
   "outputs": [],
   "source": [
    "px.pie(nordic_2007_df, values='pop', names='country', hover_data='gdpPercap')"
   ]
  },
  {
   "cell_type": "markdown",
   "metadata": {},
   "source": [
    "# Bubble chart"
   ]
  },
  {
   "cell_type": "code",
   "execution_count": null,
   "metadata": {},
   "outputs": [],
   "source": [
    "px.scatter(sweden_df, x='year', y='lifeExp')"
   ]
  },
  {
   "cell_type": "code",
   "execution_count": null,
   "metadata": {},
   "outputs": [],
   "source": [
    "px.scatter(nordic_df, x='gdpPercap', y='lifeExp', color='country', size='pop', animation_frame='year', \n",
    "           range_x=[5000, 50000], range_y=[60, 90])"
   ]
  },
  {
   "cell_type": "code",
   "execution_count": null,
   "metadata": {},
   "outputs": [],
   "source": [
    "gapminder_df['lifeExp'].max()"
   ]
  },
  {
   "cell_type": "code",
   "execution_count": null,
   "metadata": {},
   "outputs": [],
   "source": [
    "px.scatter(gapminder_df, x='gdpPercap', y='lifeExp', color='country', size='pop', animation_frame='year', \n",
    "           range_x=[300, 100000], range_y=[0, 90], size_max=60, log_x=True)"
   ]
  },
  {
   "cell_type": "code",
   "execution_count": null,
   "metadata": {},
   "outputs": [],
   "source": []
  }
 ],
 "metadata": {
  "kernelspec": {
   "display_name": "databehandling",
   "language": "python",
   "name": "python3"
  },
  "language_info": {
   "codemirror_mode": {
    "name": "ipython",
    "version": 3
   },
   "file_extension": ".py",
   "mimetype": "text/x-python",
   "name": "python",
   "nbconvert_exporter": "python",
   "pygments_lexer": "ipython3",
   "version": "3.12.7"
  }
 },
 "nbformat": 4,
 "nbformat_minor": 2
}
