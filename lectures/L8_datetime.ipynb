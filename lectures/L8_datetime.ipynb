{
 "cells": [
  {
   "cell_type": "markdown",
   "metadata": {},
   "source": [
    "# Lecture: Handling DateTime Data in Pandas\n",
    "\n",
    "## Objectives\n",
    "By the end of this lecture, students will be able to:\n",
    "1. Understand how to handle datetime types in Pandas.\n",
    "3. Convert string dates to datetime objects and vice versa.\n",
    "4. Perform various datetime operations such as indexing, filtering, and resampling.\n",
    "5. Utilize datetime functionalities for data analysis.\n",
    "\n"
   ]
  },
  {
   "cell_type": "markdown",
   "metadata": {},
   "source": [
    "____"
   ]
  },
  {
   "cell_type": "markdown",
   "metadata": {},
   "source": [
    "## Introduction to Datetime in Pandas\n",
    "\n",
    "**What is Datetime?**\n",
    "Datetime refers to the representation of dates and times in a standard format. In Pandas, datetime objects are essential for time series analysis, data manipulation, and visualization.\n",
    "\n",
    "Pandas provides two primary types for handling dates and times:\n",
    "- `datetime64[ns]`: A numpy data type for timestamps, with nanosecond precision.\n",
    "- `timedelta[ns]`: Represents differences between two datetime objects."
   ]
  },
  {
   "cell_type": "markdown",
   "metadata": {},
   "source": [
    "_____\n",
    "\n",
    "## Dataset\n",
    "\n",
    "Let's create a sample dataset that contains sales data over a month, using string representations for the dates. The dataset will include:\n",
    "- `date`: Dates of sales in string format.\n",
    "- `sales`: Amount of sales.\n",
    "- `category`: Category of the product sold."
   ]
  },
  {
   "cell_type": "code",
   "execution_count": null,
   "metadata": {},
   "outputs": [],
   "source": [
    "import pandas as pd\n",
    "import numpy as np\n",
    "\n",
    "# Create a list of dates in string format\n",
    "date_strings = [\n",
    "    '2023-02-01 08:45', '2023-01-02 14:30', '2023-05-03 09:15', '2023-02-04 16:20', '2023-12-05 12:00',\n",
    "    '2023-04-06 18:50', '2023-02-07 10:25', '2023-12-08 13:40', '2023-03-09 11:00', '2023-12-10 15:30',\n",
    "    '2023-06-11 09:10', '2023-12-12 17:00', '2023-11-13 08:15', '2023-04-14 12:30', '2023-11-15 14:20',\n",
    "    '2023-08-16 19:45', '2023-11-17 10:10', '2023-11-18 11:50', '2023-05-19 13:30', '2023-10-20 18:25',\n",
    "    '2023-10-21 14:05', '2023-01-22 15:35', '2023-06-23 09:55', '2023-06-24 16:45', '2023-09-25 08:20',\n",
    "    '2023-09-26 12:15', '2023-03-27 18:30', '2023-02-28 10:50', '2023-07-29 13:05', '2023-08-30 14:40',\n",
    "    '2023-10-31 17:55'\n",
    "]\n",
    "\n",
    "# Generate random sales data\n",
    "sales_data = np.random.randint(100, 500, size=len(date_strings))\n",
    "\n",
    "# Define categories\n",
    "categories = ['Electronics', 'Clothing', 'Groceries', 'Home', 'Sports']\n",
    "category_data = np.random.choice(categories, size=len(date_strings))\n",
    "\n",
    "# Create the DataFrame\n",
    "sales_df = pd.DataFrame({\n",
    "    'date': date_strings,\n",
    "    'sales': sales_data,\n",
    "    'category': category_data\n",
    "})"
   ]
  },
  {
   "cell_type": "code",
   "execution_count": null,
   "metadata": {},
   "outputs": [],
   "source": [
    "sales_df.info()"
   ]
  },
  {
   "cell_type": "markdown",
   "metadata": {},
   "source": [
    "______\n",
    "\n",
    "## Converting Between String and Datetime\n",
    "\n",
    "To convert the string representation of dates into datetime objects, we can use the `pd.to_datetime()` function.\n",
    "\n",
    "#### Step-by-Step Conversion\n",
    "1. **Select the column to convert**: In this case, we will convert the `date` column.\n",
    "2. **Use `pd.to_datetime()`**: This function automatically detects the format of the date strings and converts them.\n"
   ]
  },
  {
   "cell_type": "code",
   "execution_count": null,
   "metadata": {},
   "outputs": [],
   "source": [
    "sales_df['date'] = pd.to_datetime(sales_df['date'])\n",
    "\n",
    "sales_df.head()\n",
    "sales_df.info()"
   ]
  },
  {
   "cell_type": "markdown",
   "metadata": {},
   "source": [
    "_____\n",
    "\n",
    "## Working with Datetime\n",
    "\n",
    "After converting to datetime, you can easily access components like year, month, day, etc."
   ]
  },
  {
   "cell_type": "code",
   "execution_count": null,
   "metadata": {},
   "outputs": [],
   "source": [
    "sales_df['date']"
   ]
  },
  {
   "cell_type": "code",
   "execution_count": null,
   "metadata": {},
   "outputs": [],
   "source": [
    "sales_df['year'] = sales_df['date'].dt.year\n",
    "sales_df['month'] = sales_df['date'].dt.month\n",
    "sales_df['day'] = sales_df['date'].dt.day\n",
    "sales_df['hour'] = sales_df['date'].dt.hour\n",
    "sales_df['minute'] = sales_df['date'].dt.minute\n"
   ]
  },
  {
   "cell_type": "markdown",
   "metadata": {},
   "source": [
    "____\n",
    "\n",
    "## Filtering by date\n",
    "\n",
    "We can filter the data based on specific dates in a natural way."
   ]
  },
  {
   "cell_type": "code",
   "execution_count": null,
   "metadata": {},
   "outputs": [],
   "source": [
    "sales_df"
   ]
  },
  {
   "cell_type": "code",
   "execution_count": null,
   "metadata": {},
   "outputs": [],
   "source": [
    "december_filter = sales_df['month'] == 12\n",
    "\n",
    "sales_df[december_filter]"
   ]
  },
  {
   "cell_type": "code",
   "execution_count": null,
   "metadata": {},
   "outputs": [],
   "source": [
    "december_filter = sales_df['date'].dt.month == 12\n",
    "\n",
    "sales_df[december_filter]\n"
   ]
  },
  {
   "cell_type": "code",
   "execution_count": null,
   "metadata": {},
   "outputs": [],
   "source": [
    "winter_months_filter = sales_df['date'].dt.month.isin([12, 1, 2])\n",
    "\n",
    "sales_df[winter_months_filter]"
   ]
  },
  {
   "cell_type": "code",
   "execution_count": null,
   "metadata": {},
   "outputs": [],
   "source": [
    "autumn_months_filter = sales_df['date'].dt.month.between(9, 11)\n",
    "\n",
    "sales_df[autumn_months_filter]\n"
   ]
  },
  {
   "cell_type": "code",
   "execution_count": null,
   "metadata": {},
   "outputs": [],
   "source": [
    "afternoon_hours = sales_df['date'].dt.hour.between(12, 17)\n",
    "\n",
    "sales_df[afternoon_hours]"
   ]
  },
  {
   "cell_type": "markdown",
   "metadata": {},
   "source": [
    "____\n",
    "\n",
    "## Plotting with Datetime\n",
    "\n",
    "Since datetime is ordered, it's easy to plot data over time.\n",
    "\n"
   ]
  },
  {
   "cell_type": "code",
   "execution_count": null,
   "metadata": {},
   "outputs": [],
   "source": [
    "afternoon_sales_df = sales_df[afternoon_hours]\n",
    "\n",
    "afternoon_sales_df"
   ]
  },
  {
   "cell_type": "code",
   "execution_count": null,
   "metadata": {},
   "outputs": [],
   "source": [
    "import matplotlib.pyplot as plt\n",
    "\n",
    "plt.figure(figsize=(12, 6))\n",
    "plt.scatter(sales_df['date'], sales_df['sales'], marker='o', label='Daily Sales')\n",
    "plt.title('Daily Sales in January 2023')\n",
    "plt.xlabel('Date')\n",
    "plt.ylabel('Sales')\n",
    "plt.xticks(rotation=45)\n",
    "plt.legend()\n",
    "plt.tight_layout()\n",
    "plt.show()"
   ]
  },
  {
   "cell_type": "markdown",
   "metadata": {},
   "source": [
    "______\n",
    "\n",
    "## Some more basics, and manual intervention\n",
    "\n",
    "Here's some more cute basics."
   ]
  },
  {
   "cell_type": "code",
   "execution_count": null,
   "metadata": {},
   "outputs": [],
   "source": [
    "from datetime import datetime"
   ]
  },
  {
   "cell_type": "code",
   "execution_count": null,
   "metadata": {},
   "outputs": [],
   "source": [
    "now = datetime.now()\n",
    "\n",
    "print(now)"
   ]
  },
  {
   "cell_type": "markdown",
   "metadata": {},
   "source": [
    "# Specifying a Format with `pd.to_datetime`\n",
    "\n",
    "Sometimes, we need to provide a specific format to `pd.to_datetime()` because Pandas might not automatically interpret certain date string formats correctly. Specifying the format makes the conversion faster and more accurate.\n",
    "\n",
    "*When can it go wrong?*\n",
    "\n",
    "1. **Ambiguous Formats**: Some date strings can be ambiguous. For example, `01-02-2023` could be interpreted as January 2, 2023 (MM-DD-YYYY) or February 1, 2023 (DD-MM-YYYY). Specifying the format clarifies this.\n",
    "2. **Non-Standard Formats**: Dates in formats like `2023/01/01` or `01-Jan-2023 08:30` are not standard and may not be parsed correctly by default.\n",
    "3. **Speed Optimization**: Specifying the format can make the conversion faster, especially with large datasets, as Pandas doesn’t have to infer the format.\n",
    "\n"
   ]
  },
  {
   "cell_type": "markdown",
   "metadata": {},
   "source": [
    "**The language of datetime**\n",
    "\n",
    "The `format` parameter in `pd.to_datetime()` accepts standard format codes. Here are a few examples:\n",
    "\n",
    "**%Y**: Year with century as a number (e.g., '2023').\n",
    "\n",
    "**%y**: Year without century as a zero-padded number (e.g., '23' for '2023').\n",
    "\n",
    "**%m**: Month as a either a zero-padded number or straight-up number (e.g., '03' or '3' for March and 12 for December).\n",
    "\n",
    "**%d**: Day of the month as a zero-padded number or straight-up number (e.g., '09', '9' or '18').\n",
    "\n",
    "**%H**: Hour (24-hour clock) as a zero-padded number or straight up number(e.g., '12' for noon, and '03' or '3' for 3 o'clock).\n",
    "    \n",
    "**%I**: Hour (12-hour clock) as a zero-padded number or straight up number (e.g., '12' for noon, and '03' or '3' for 3 o'clock).\n",
    "    \n",
    "**%M**: Minute as a zero-padded number or straight up number (e.g., '03' or '3', and '22').\n",
    "    \n",
    "**%S**: Second as a zero-padded number or straight up number (e.g., '00' or '0').\n",
    "    \n",
    "**%p**: AM or PM (used with 12-hour clock) (e.g., 'AM' or 'PM').\n",
    "\n",
    "For example, if you have dates in the format `\"DD-MM-YYYY HH:MM\"`, you would specify it as `\"%d-%m-%Y %H:%M\"`.\n",
    "\n"
   ]
  },
  {
   "cell_type": "code",
   "execution_count": null,
   "metadata": {},
   "outputs": [],
   "source": [
    "# Sample dataset with date strings in non-standard format\n",
    "\n",
    "data = {\n",
    "    'date': ['01/02/2023 08:30', '15/03/2023 10:45', '28/04/2023 14:20'],\n",
    "    'sales': [200, 300, 250]\n",
    "}\n",
    "\n",
    "# Create a DataFrame\n",
    "df = pd.DataFrame(data)\n",
    "\n",
    "# Specifying the format explicitly\n",
    "df['date_manual'] = pd.to_datetime(df['date'], format='%d/%m/%Y %H:%M')\n",
    "\n",
    "# Display the DataFrame to compare\n",
    "df"
   ]
  }
 ],
 "metadata": {
  "kernelspec": {
   "display_name": "databehandling",
   "language": "python",
   "name": "python3"
  },
  "language_info": {
   "codemirror_mode": {
    "name": "ipython",
    "version": 3
   },
   "file_extension": ".py",
   "mimetype": "text/x-python",
   "name": "python",
   "nbconvert_exporter": "python",
   "pygments_lexer": "ipython3",
   "version": "3.12.7"
  }
 },
 "nbformat": 4,
 "nbformat_minor": 2
}
